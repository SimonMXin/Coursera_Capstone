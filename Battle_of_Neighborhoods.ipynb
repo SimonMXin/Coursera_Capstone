{
 "cells": [
  {
   "cell_type": "markdown",
   "metadata": {},
   "source": [
    "# Peer-graded Assignment: Capstone Project - The Battle of Neighborhoods (Week 1)"
   ]
  },
  {
   "cell_type": "markdown",
   "metadata": {},
   "source": [
    "## Introduction/Business problem"
   ]
  },
  {
   "cell_type": "markdown",
   "metadata": {},
   "source": [
    "The health industry and its related businesses have been growing steadily during the past few decades in North America. Given the soaring awareness of personal healthcare and pursuits of healthy lifestyles, new business interests emerge in those big metropolitan areas which cover a wide range of products and services. In this project, we investigate and compare the potential investment opportunities for healthy food business in two major financial centers: New York city and the city of Toronto. Since the recent legalization of recreational marijuana in Canada and an increasing number of states in the U.S., cannabis and other natural herb based heath products are given more attention as diet supplement and health improvement alternatives. So here we want to forecast and compare the business potential of cannabis related heath products in those cities by studying the heath lifestyle preference  statistics and based on that, further identify the most promising locations of our new business."
   ]
  },
  {
   "cell_type": "markdown",
   "metadata": {},
   "source": [
    "## Dataset used in the project"
   ]
  },
  {
   "cell_type": "markdown",
   "metadata": {},
   "source": [
    "The dataset is obtained using queries of Foursquare API. We will explore boroughs and neighborhoods in NYC and Toronto by using GET() method to obtain top venues nearby each location. Focuses will be placed on those health related venues that indicate people’s preference for a healthy lifestyle and openness to the idea of cannabis related products. The types of the locations include:\n",
    "\n",
    "•  Gym <br>\n",
    "•  Vegan restaurant<br>\n",
    "•  Sports center<br>\n",
    "•  Playground<br>\n",
    "•  Health food store<br>\n",
    "•  Fast food restaurant<br>\n",
    "•  Sports gear/equipment store<br>\n",
    "•  Cannabis lounges<br>\n",
    "•  Bars/nightclubs<br>\n",
    "•  Concerts/music festivals<br>\n",
    "\n",
    "For the above listed venue types, we get visit related information, such as visitor age, gender, number of visits per day/month, etc.\n",
    "\n",
    "To establish a fair comparison between the two cities, we want to normalize the data against demographic statistics, such as population and age structure of the two cities. We will "
   ]
  },
  {
   "cell_type": "code",
   "execution_count": null,
   "metadata": {},
   "outputs": [],
   "source": []
  }
 ],
 "metadata": {
  "kernelspec": {
   "display_name": "Python 3",
   "language": "python",
   "name": "python3"
  },
  "language_info": {
   "codemirror_mode": {
    "name": "ipython",
    "version": 3
   },
   "file_extension": ".py",
   "mimetype": "text/x-python",
   "name": "python",
   "nbconvert_exporter": "python",
   "pygments_lexer": "ipython3",
   "version": "3.6.8"
  }
 },
 "nbformat": 4,
 "nbformat_minor": 2
}
