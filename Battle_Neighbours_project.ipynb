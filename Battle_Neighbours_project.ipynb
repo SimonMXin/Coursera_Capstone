{
 "cells": [
  {
   "cell_type": "markdown",
   "metadata": {},
   "source": [
    "# Peer-graded Assignment: Capstone Project - The Battle of Neighborhoods"
   ]
  },
  {
   "cell_type": "markdown",
   "metadata": {},
   "source": [
    "## Introduction/Business problem"
   ]
  },
  {
   "cell_type": "markdown",
   "metadata": {},
   "source": [
    "The health industry and its related businesses have been growing steadily during the past few decades in North America. Given the soaring awareness of personal healthcare and pursuits of healthy lifestyles, new business interests emerge in those big metropolitan areas which cover a wide range of products and services. In this project, we investigate and compare the potential investment opportunities for healthy food business in two major financial centers: New York city and the city of Toronto. Since the recent legalization of recreational marijuana in Canada and an increasing number of states in the U.S., cannabis and other natural herb based heath products are given more attention as diet supplement and health improvement alternatives. So here we want to forecast and compare the business potential of cannabis related heath products in those cities by studying the heath lifestyle preference  statistics and based on that, further identify the most promising locations of our new business."
   ]
  },
  {
   "cell_type": "markdown",
   "metadata": {},
   "source": [
    "## Dataset used in the project"
   ]
  },
  {
   "cell_type": "markdown",
   "metadata": {},
   "source": [
    "The dataset is obtained using queries of Foursquare API. We will explore boroughs and neighborhoods in NYC and Toronto by using GET() method to obtain top venues nearby each location. Focuses will be placed on those health related venues that indicate people’s preference for a healthy lifestyle and openness to the idea of cannabis related products. The types of the locations include:\n",
    "\n",
    "•  Gym <br>\n",
    "•  Vegan restaurant<br>\n",
    "•  Sports center<br>\n",
    "•  Playground<br>\n",
    "•  Health food store<br>\n",
    "•  Fast food restaurant<br>\n",
    "•  Sports gear/equipment store<br>\n",
    "•  Cannabis lounges<br>\n",
    "•  Bars/nightclubs<br>\n",
    "•  Concerts/music festivals<br>\n",
    "\n",
    "For the above listed venue types, we get visit related information, such as visitor age, gender, number of visits per day/month, etc.\n",
    "\n",
    "To establish a fair comparison between the two cities, we want to normalize the data against demographic statistics, such as population and age structure of the two cities. The venue type statistics and the associated visit information will be used as the features for segmenting/clustering of boroughs and neighborhoods. "
   ]
  },
  {
   "cell_type": "markdown",
   "metadata": {},
   "source": [
    "## Data Acquisition and pre-processing"
   ]
  },
  {
   "cell_type": "markdown",
   "metadata": {},
   "source": [
    "### 1. Import libraries"
   ]
  },
  {
   "cell_type": "code",
   "execution_count": 2,
   "metadata": {},
   "outputs": [
    {
     "name": "stdout",
     "output_type": "stream",
     "text": [
      "Libraries imported.\n"
     ]
    }
   ],
   "source": [
    "import numpy as np # library to handle data in a vectorized manner\n",
    "\n",
    "import pandas as pd # library for data analsysis\n",
    "pd.set_option('display.max_columns', None)\n",
    "pd.set_option('display.max_rows', None)\n",
    "\n",
    "import json # library to handle JSON files\n",
    "\n",
    "#!conda install -c conda-forge geopy --yes # uncomment this line if you haven't completed the Foursquare API lab\n",
    "from geopy.geocoders import Nominatim # convert an address into latitude and longitude values\n",
    "\n",
    "import requests # library to handle requests\n",
    "from pandas.io.json import json_normalize # tranform JSON file into a pandas dataframe\n",
    "\n",
    "# Matplotlib and associated plotting modules\n",
    "import matplotlib.cm as cm\n",
    "import matplotlib.colors as colors\n",
    "\n",
    "# import k-means from clustering stage\n",
    "from sklearn.cluster import KMeans\n",
    "\n",
    "#!conda install -c conda-forge folium=0.5.0 --yes # uncomment this line if you haven't completed the Foursquare API lab\n",
    "import folium # map rendering library\n",
    "\n",
    "print('Libraries imported.')"
   ]
  },
  {
   "cell_type": "markdown",
   "metadata": {},
   "source": [
    "Load borough and neighborhood information of NYC and Toronto. Here we use the Manhattan and Downtown Toronto to represent NYC and Toronto respectively due to the limit of calls."
   ]
  },
  {
   "cell_type": "code",
   "execution_count": 3,
   "metadata": {},
   "outputs": [],
   "source": [
    "df_nyc = pd.read_csv('nyc_neighbourhoods.csv')\n",
    "df_toronto = pd.read_csv('Toronto_Neighbourhood_and_Coordinates.csv')"
   ]
  },
  {
   "cell_type": "code",
   "execution_count": 4,
   "metadata": {},
   "outputs": [],
   "source": [
    "df_nyc_main = df_nyc[df_nyc['Borough'] == 'Manhattan']\n",
    "df_nyc_main.reset_index(drop = True, inplace = True)\n",
    "\n",
    "df_toronto_main = df_toronto[df_toronto['Borough'] == 'Downtown Toronto']\n",
    "df_toronto_main.reset_index(drop = True, inplace = True)"
   ]
  },
  {
   "cell_type": "code",
   "execution_count": 5,
   "metadata": {},
   "outputs": [
    {
     "data": {
      "text/html": [
       "<div>\n",
       "<style scoped>\n",
       "    .dataframe tbody tr th:only-of-type {\n",
       "        vertical-align: middle;\n",
       "    }\n",
       "\n",
       "    .dataframe tbody tr th {\n",
       "        vertical-align: top;\n",
       "    }\n",
       "\n",
       "    .dataframe thead th {\n",
       "        text-align: right;\n",
       "    }\n",
       "</style>\n",
       "<table border=\"1\" class=\"dataframe\">\n",
       "  <thead>\n",
       "    <tr style=\"text-align: right;\">\n",
       "      <th></th>\n",
       "      <th>Borough</th>\n",
       "      <th>Neighborhood</th>\n",
       "      <th>Latitude</th>\n",
       "      <th>Longitude</th>\n",
       "    </tr>\n",
       "  </thead>\n",
       "  <tbody>\n",
       "    <tr>\n",
       "      <th>0</th>\n",
       "      <td>Manhattan</td>\n",
       "      <td>Marble Hill</td>\n",
       "      <td>40.876551</td>\n",
       "      <td>-73.910660</td>\n",
       "    </tr>\n",
       "    <tr>\n",
       "      <th>1</th>\n",
       "      <td>Manhattan</td>\n",
       "      <td>Chinatown</td>\n",
       "      <td>40.715618</td>\n",
       "      <td>-73.994279</td>\n",
       "    </tr>\n",
       "    <tr>\n",
       "      <th>2</th>\n",
       "      <td>Manhattan</td>\n",
       "      <td>Washington Heights</td>\n",
       "      <td>40.851903</td>\n",
       "      <td>-73.936900</td>\n",
       "    </tr>\n",
       "    <tr>\n",
       "      <th>3</th>\n",
       "      <td>Manhattan</td>\n",
       "      <td>Inwood</td>\n",
       "      <td>40.867684</td>\n",
       "      <td>-73.921210</td>\n",
       "    </tr>\n",
       "    <tr>\n",
       "      <th>4</th>\n",
       "      <td>Manhattan</td>\n",
       "      <td>Hamilton Heights</td>\n",
       "      <td>40.823604</td>\n",
       "      <td>-73.949688</td>\n",
       "    </tr>\n",
       "  </tbody>\n",
       "</table>\n",
       "</div>"
      ],
      "text/plain": [
       "     Borough        Neighborhood   Latitude  Longitude\n",
       "0  Manhattan         Marble Hill  40.876551 -73.910660\n",
       "1  Manhattan           Chinatown  40.715618 -73.994279\n",
       "2  Manhattan  Washington Heights  40.851903 -73.936900\n",
       "3  Manhattan              Inwood  40.867684 -73.921210\n",
       "4  Manhattan    Hamilton Heights  40.823604 -73.949688"
      ]
     },
     "execution_count": 5,
     "metadata": {},
     "output_type": "execute_result"
    }
   ],
   "source": [
    "df_nyc_main.head()"
   ]
  },
  {
   "cell_type": "markdown",
   "metadata": {},
   "source": [
    "Modify the Toronto dataset to match the structure with NYC dataset."
   ]
  },
  {
   "cell_type": "code",
   "execution_count": 5,
   "metadata": {},
   "outputs": [
    {
     "name": "stderr",
     "output_type": "stream",
     "text": [
      "/home/jupyterlab/conda/lib/python3.6/site-packages/pandas/core/frame.py:3940: SettingWithCopyWarning: \n",
      "A value is trying to be set on a copy of a slice from a DataFrame\n",
      "\n",
      "See the caveats in the documentation: http://pandas.pydata.org/pandas-docs/stable/indexing.html#indexing-view-versus-copy\n",
      "  errors=errors)\n",
      "/home/jupyterlab/conda/lib/python3.6/site-packages/pandas/core/frame.py:4025: SettingWithCopyWarning: \n",
      "A value is trying to be set on a copy of a slice from a DataFrame\n",
      "\n",
      "See the caveats in the documentation: http://pandas.pydata.org/pandas-docs/stable/indexing.html#indexing-view-versus-copy\n",
      "  return super(DataFrame, self).rename(**kwargs)\n"
     ]
    }
   ],
   "source": [
    "df_toronto_main.drop('PostalCode', axis = 1, inplace = True)\n",
    "df_toronto_main.rename(columns = {'Neighbourhood':'Neighborhood'}, inplace = True)"
   ]
  },
  {
   "cell_type": "code",
   "execution_count": 7,
   "metadata": {},
   "outputs": [
    {
     "data": {
      "text/html": [
       "<div>\n",
       "<style scoped>\n",
       "    .dataframe tbody tr th:only-of-type {\n",
       "        vertical-align: middle;\n",
       "    }\n",
       "\n",
       "    .dataframe tbody tr th {\n",
       "        vertical-align: top;\n",
       "    }\n",
       "\n",
       "    .dataframe thead th {\n",
       "        text-align: right;\n",
       "    }\n",
       "</style>\n",
       "<table border=\"1\" class=\"dataframe\">\n",
       "  <thead>\n",
       "    <tr style=\"text-align: right;\">\n",
       "      <th></th>\n",
       "      <th>Borough</th>\n",
       "      <th>Neighborhood</th>\n",
       "      <th>Latitude</th>\n",
       "      <th>Longitude</th>\n",
       "    </tr>\n",
       "  </thead>\n",
       "  <tbody>\n",
       "    <tr>\n",
       "      <th>0</th>\n",
       "      <td>Downtown Toronto</td>\n",
       "      <td>Harbourfront, Regent Park</td>\n",
       "      <td>43.654260</td>\n",
       "      <td>-79.360636</td>\n",
       "    </tr>\n",
       "    <tr>\n",
       "      <th>1</th>\n",
       "      <td>Downtown Toronto</td>\n",
       "      <td>Ryerson, Garden District</td>\n",
       "      <td>43.657162</td>\n",
       "      <td>-79.378937</td>\n",
       "    </tr>\n",
       "    <tr>\n",
       "      <th>2</th>\n",
       "      <td>Downtown Toronto</td>\n",
       "      <td>St. James Town</td>\n",
       "      <td>43.651494</td>\n",
       "      <td>-79.375418</td>\n",
       "    </tr>\n",
       "    <tr>\n",
       "      <th>3</th>\n",
       "      <td>Downtown Toronto</td>\n",
       "      <td>Berczy Park</td>\n",
       "      <td>43.644771</td>\n",
       "      <td>-79.373306</td>\n",
       "    </tr>\n",
       "    <tr>\n",
       "      <th>4</th>\n",
       "      <td>Downtown Toronto</td>\n",
       "      <td>Central Bay Street</td>\n",
       "      <td>43.657952</td>\n",
       "      <td>-79.387383</td>\n",
       "    </tr>\n",
       "  </tbody>\n",
       "</table>\n",
       "</div>"
      ],
      "text/plain": [
       "            Borough               Neighborhood   Latitude  Longitude\n",
       "0  Downtown Toronto  Harbourfront, Regent Park  43.654260 -79.360636\n",
       "1  Downtown Toronto   Ryerson, Garden District  43.657162 -79.378937\n",
       "2  Downtown Toronto             St. James Town  43.651494 -79.375418\n",
       "3  Downtown Toronto                Berczy Park  43.644771 -79.373306\n",
       "4  Downtown Toronto         Central Bay Street  43.657952 -79.387383"
      ]
     },
     "execution_count": 7,
     "metadata": {},
     "output_type": "execute_result"
    }
   ],
   "source": [
    "df_toronto_main.head()"
   ]
  },
  {
   "cell_type": "markdown",
   "metadata": {},
   "source": [
    "### 2. Setup Foursquare API connections"
   ]
  },
  {
   "cell_type": "markdown",
   "metadata": {},
   "source": [
    "Setup Foursquare API credentials."
   ]
  },
  {
   "cell_type": "code",
   "execution_count": 8,
   "metadata": {},
   "outputs": [
    {
     "name": "stdout",
     "output_type": "stream",
     "text": [
      "Your credentails:\n",
      "CLIENT_ID: DRPWJPB40IVVKQBT41MULEGTN4WG5SJO4GDCG5XUPXJPRJHS\n",
      "CLIENT_SECRET:OKEP4LQIQTJZL1K1CM4LHPLJ5X2JO2WQ4I1D1VLI0RLJTRIZ\n"
     ]
    }
   ],
   "source": [
    "CLIENT_ID = 'DRPWJPB40IVVKQBT41MULEGTN4WG5SJO4GDCG5XUPXJPRJHS' # your Foursquare ID\n",
    "CLIENT_SECRET = 'OKEP4LQIQTJZL1K1CM4LHPLJ5X2JO2WQ4I1D1VLI0RLJTRIZ' # your Foursquare Secret\n",
    "VERSION = '20180604'\n",
    "print('Your credentails:')\n",
    "print('CLIENT_ID: ' + CLIENT_ID)\n",
    "print('CLIENT_SECRET:' + CLIENT_SECRET)"
   ]
  },
  {
   "cell_type": "markdown",
   "metadata": {},
   "source": [
    "**Try a simple query to test API connection (optional).**"
   ]
  },
  {
   "cell_type": "code",
   "execution_count": 161,
   "metadata": {},
   "outputs": [
    {
     "ename": "KeyError",
     "evalue": "'venues'",
     "output_type": "error",
     "traceback": [
      "\u001b[0;31m---------------------------------------------------------------------------\u001b[0m",
      "\u001b[0;31mKeyError\u001b[0m                                  Traceback (most recent call last)",
      "\u001b[0;32m<ipython-input-161-3309e2a95fe8>\u001b[0m in \u001b[0;36m<module>\u001b[0;34m\u001b[0m\n\u001b[1;32m      9\u001b[0m \u001b[0;34m\u001b[0m\u001b[0m\n\u001b[1;32m     10\u001b[0m     \u001b[0mresults\u001b[0m \u001b[0;34m=\u001b[0m \u001b[0mrequests\u001b[0m\u001b[0;34m.\u001b[0m\u001b[0mget\u001b[0m\u001b[0;34m(\u001b[0m\u001b[0murl\u001b[0m\u001b[0;34m)\u001b[0m\u001b[0;34m.\u001b[0m\u001b[0mjson\u001b[0m\u001b[0;34m(\u001b[0m\u001b[0;34m)\u001b[0m\u001b[0;34m\u001b[0m\u001b[0;34m\u001b[0m\u001b[0m\n\u001b[0;32m---> 11\u001b[0;31m     \u001b[0mdfx\u001b[0m \u001b[0;34m=\u001b[0m \u001b[0mjson_normalize\u001b[0m\u001b[0;34m(\u001b[0m\u001b[0mresults\u001b[0m\u001b[0;34m[\u001b[0m\u001b[0;34m'response'\u001b[0m\u001b[0;34m]\u001b[0m\u001b[0;34m[\u001b[0m\u001b[0;34m'venues'\u001b[0m\u001b[0;34m]\u001b[0m\u001b[0;34m)\u001b[0m\u001b[0;34m\u001b[0m\u001b[0;34m\u001b[0m\u001b[0m\n\u001b[0m",
      "\u001b[0;31mKeyError\u001b[0m: 'venues'"
     ]
    }
   ],
   "source": [
    "LIMIT = 200\n",
    "radius = 500\n",
    "query = 'gym'\n",
    "\n",
    "for i in range(1):\n",
    "    lat = df_nyc_main.loc[i,'Latitude']\n",
    "    long = df_nyc_main.loc[i,'Longitude']\n",
    "    url = 'https://api.foursquare.com/v2/venues/search?client_id={}&client_secret={}&ll={},{}&query={}&v={}&radius={}&limit={}'.format(CLIENT_ID, CLIENT_SECRET, lat, long, query, VERSION, radius, LIMIT)\n",
    "\n",
    "    results = requests.get(url).json()\n",
    "    dfx = json_normalize(results['response']['venues'])"
   ]
  },
  {
   "cell_type": "code",
   "execution_count": 162,
   "metadata": {},
   "outputs": [
    {
     "data": {
      "text/plain": [
       "{'meta': {'code': 429,\n",
       "  'errorType': 'quota_exceeded',\n",
       "  'errorDetail': 'Quota exceeded',\n",
       "  'requestId': '5cbf8bf4351e3d1d4f195a1c'},\n",
       " 'response': {}}"
      ]
     },
     "execution_count": 162,
     "metadata": {},
     "output_type": "execute_result"
    }
   ],
   "source": [
    "results"
   ]
  },
  {
   "cell_type": "markdown",
   "metadata": {},
   "source": [
    "### 3. Setup data acquisition routine "
   ]
  },
  {
   "cell_type": "markdown",
   "metadata": {},
   "source": [
    "First, we define a function to fetch venues associated with a keyword for neighborhoods in the dataset."
   ]
  },
  {
   "cell_type": "code",
   "execution_count": null,
   "metadata": {},
   "outputs": [],
   "source": [
    "# define a function that returns a combined venue DF for all input neighborhoods \n",
    "def search_venue(df, search_query):\n",
    "    \n",
    "    filter_columns = ['name', 'id', 'categories', 'location.distance', 'location.lat', 'location.lng']\n",
    "    new_columns = ['Name', 'ID', 'Categories', 'Distance', 'Latitude', 'Longitude']\n",
    "    df_venues = pd.DataFrame(columns = new_columns + ['Neighborhood'])\n",
    "    LIMIT = 200\n",
    "    radius = 500\n",
    "    query = search_query\n",
    "    df_res = pd.DataFrame(columns = new_columns + ['Neighborhood'])\n",
    "    \n",
    "    for nei, lat, long in zip(df['Neighborhood'], df['Latitude'], df['Longitude']):\n",
    "        url = 'https://api.foursquare.com/v2/venues/search?client_id={}&client_secret={}&ll={},{}&query={}&v={}&radius={}&limit={}'.format(CLIENT_ID, CLIENT_SECRET, lat, long, query, VERSION, radius, LIMIT)\n",
    "\n",
    "        results = requests.get(url).json()\n",
    "        if len(results['response']['venues']) > 0:\n",
    "            df_res = json_normalize(results['response']['venues'])\n",
    "            df_res = df_res[filter_columns]\n",
    "            df_res.columns = new_columns\n",
    "            df_res['Neighborhood'] = nei\n",
    "        else: \n",
    "            continue\n",
    "          \n",
    "        df_venues = pd.concat([df_venues, df_res], axis = 0, ignore_index = True)\n",
    "        \n",
    "    df_venues.reset_index(drop = True, inplace = True)    \n",
    "    \n",
    "    return df_venues"
   ]
  },
  {
   "cell_type": "markdown",
   "metadata": {},
   "source": [
    "Then, we define another function to clean up the data acquared and extract useful information."
   ]
  },
  {
   "cell_type": "code",
   "execution_count": null,
   "metadata": {},
   "outputs": [],
   "source": [
    "# data cleansing by dropping null category rows and obtain the categroy of each venue\n",
    "def venue_cleansing(df):\n",
    "    \n",
    "    for i in range(df.shape[0]):\n",
    "        if len(df.loc[i,'Categories']) == 0:\n",
    "            df.loc[i,'Categories'] = np.nan\n",
    "        else:\n",
    "            continue\n",
    "        \n",
    "    df.dropna(axis = 0, inplace = True)\n",
    "    df.reset_index(drop = True, inplace = True)  # reset index after row process\n",
    "    \n",
    "    for i in range(df.shape[0]):\n",
    "        df.loc[i, 'Categories'] = df.loc[i, 'Categories'][0]['name']\n",
    "\n",
    "    return df"
   ]
  },
  {
   "cell_type": "markdown",
   "metadata": {},
   "source": [
    "Now, we search for venues associated with a search keyword. The clean datasets are save in separate csv files. The keywords used reflect people's lifestyle regarding physical exercises, health food, and openness to natural herb products."
   ]
  },
  {
   "cell_type": "code",
   "execution_count": null,
   "metadata": {},
   "outputs": [],
   "source": [
    "# Save search results to csv files\n",
    "key_word_list = ['gym', 'vegan', 'sports', 'nightclub', 'hookah', 'fast food']\n",
    "cities = ['nyc', 'toronto']\n",
    "\n",
    "for city in cities:\n",
    "    if city == 'nyc':\n",
    "        df_search = df_nyc_main.copy()\n",
    "    else:\n",
    "        df_search = df_toronto_main.copy()\n",
    "            \n",
    "    for keyword in key_word_list:         \n",
    "        df = search_venue(df_search, keyword)\n",
    "        df_clean = venue_cleansing(df)\n",
    "        file_name = 'df_' + city + '_' + keyword + '.csv'\n",
    "        df_clean.to_csv(file_name, index = False)\n"
   ]
  },
  {
   "cell_type": "markdown",
   "metadata": {},
   "source": [
    "## Expoloratory Data Analysis"
   ]
  },
  {
   "cell_type": "markdown",
   "metadata": {},
   "source": [
    "### 1. Number of feature venues in each neighborhood of Manhanttan, NY and Downtown Toronto. "
   ]
  },
  {
   "cell_type": "code",
   "execution_count": 45,
   "metadata": {},
   "outputs": [],
   "source": [
    "import matplotlib as mpl\n",
    "import matplotlib.pyplot as plt\n",
    "import seaborn as sns"
   ]
  },
  {
   "cell_type": "code",
   "execution_count": 46,
   "metadata": {},
   "outputs": [],
   "source": [
    "key_word_list = ['gym', 'vegan', 'sports', 'nightclub', 'hookah', 'fast food']\n",
    "cities = ['nyc', 'toronto']\n",
    "\n",
    "key_list = key_word_list[:-1]  \n",
    "filt_word_list = ['Gym', 'Vegan', 'Sport', 'Nightclub', 'Hookah']"
   ]
  },
  {
   "cell_type": "code",
   "execution_count": 47,
   "metadata": {},
   "outputs": [],
   "source": [
    "def feature_stat(city_name):\n",
    "    df_ret = pd.DataFrame(columns = ['Neighborhood'])\n",
    "    \n",
    "    if city_name == 'nyc':\n",
    "        df_ret['Neighborhood'] = df_nyc_main['Neighborhood'].unique()\n",
    "    else:\n",
    "        df_ret['Neighborhood'] = df_toronto_main['Neighborhood'].unique()\n",
    "  \n",
    "    for key, filt in zip(key_list, filt_word_list):\n",
    "        df_file = 'df_' + city_name + '_' + key + '.csv'        \n",
    "        df = pd.read_csv(df_file)\n",
    "        df_fil_cat = df[df['Categories'].str.contains(filt)] # furter filter out irrelevant rows\n",
    "        df_fil_nam = df[df['Name'].str.contains(filt)] \n",
    "        df_fil = pd.concat([df_fil_cat, df_fil_nam], axis = 0, ignore_index = True)\n",
    "        df_fil = df_fil.drop_duplicates('ID')   # drop duplicate rows where 'ID' is identical\n",
    "        df_grp = df_fil.groupby('Neighborhood').count()\n",
    "        df_grp.reset_index(inplace = True)\n",
    "        df_grp = df_grp[['Neighborhood', 'ID']]\n",
    "        df_grp.rename(columns = {'ID':filt}, inplace = True)\n",
    "    \n",
    "        df_ret = pd.merge(df_ret, df_grp, on = 'Neighborhood', how = 'outer')\n",
    "    \n",
    "    df_ret = df_ret.fillna(0)\n",
    "   \n",
    "    return df_ret"
   ]
  },
  {
   "cell_type": "code",
   "execution_count": 48,
   "metadata": {},
   "outputs": [],
   "source": [
    "df_nyc_feature = feature_stat('nyc')\n",
    "df_toronto_feature = feature_stat('toronto')"
   ]
  },
  {
   "cell_type": "markdown",
   "metadata": {},
   "source": [
    "Sum up all venue numbers and add the 'Total' column to the dataframe."
   ]
  },
  {
   "cell_type": "code",
   "execution_count": 49,
   "metadata": {},
   "outputs": [],
   "source": [
    "df_nyc_feature['Total'] = df_nyc_feature.sum(axis = 1)\n",
    "df_toronto_feature['Total'] = df_toronto_feature.sum(axis = 1)"
   ]
  },
  {
   "cell_type": "code",
   "execution_count": 50,
   "metadata": {},
   "outputs": [],
   "source": [
    "top_num = 10  # top 10 neighborhoods\n",
    "df_nyc_sort = df_nyc_feature.sort_values(by = 'Total', axis = 0, ascending = False)[0:top_num]\n",
    "df_nyc_sort.reset_index(drop = True, inplace = True)\n",
    "\n",
    "df_toronto_sort = df_toronto_feature.sort_values(by = 'Total', axis = 0, ascending = False)[0:top_num]\n",
    "df_toronto_sort.reset_index(drop = True, inplace = True)"
   ]
  },
  {
   "cell_type": "markdown",
   "metadata": {},
   "source": [
    "Reduce the length of the neighborhood names in Downtown Toronto."
   ]
  },
  {
   "cell_type": "code",
   "execution_count": 51,
   "metadata": {},
   "outputs": [],
   "source": [
    "# define a function to reduce neighborhood name\n",
    "def reduce_nei_name(df):\n",
    "    for i in range(df.shape[0]):\n",
    "        nei = df.loc[i,'Neighborhood'].split(',')[0]\n",
    "        df.loc[i,'Neighborhood'] = nei"
   ]
  },
  {
   "cell_type": "code",
   "execution_count": 52,
   "metadata": {},
   "outputs": [],
   "source": [
    "# reduce neighborhood name of Toronto\n",
    "reduce_nei_name(df_toronto_sort)"
   ]
  },
  {
   "cell_type": "code",
   "execution_count": 53,
   "metadata": {},
   "outputs": [
    {
     "data": {
      "text/html": [
       "<div>\n",
       "<style scoped>\n",
       "    .dataframe tbody tr th:only-of-type {\n",
       "        vertical-align: middle;\n",
       "    }\n",
       "\n",
       "    .dataframe tbody tr th {\n",
       "        vertical-align: top;\n",
       "    }\n",
       "\n",
       "    .dataframe thead th {\n",
       "        text-align: right;\n",
       "    }\n",
       "</style>\n",
       "<table border=\"1\" class=\"dataframe\">\n",
       "  <thead>\n",
       "    <tr style=\"text-align: right;\">\n",
       "      <th></th>\n",
       "      <th>Neighborhood</th>\n",
       "      <th>Gym</th>\n",
       "      <th>Vegan</th>\n",
       "      <th>Sport</th>\n",
       "      <th>Nightclub</th>\n",
       "      <th>Hookah</th>\n",
       "      <th>Total</th>\n",
       "    </tr>\n",
       "  </thead>\n",
       "  <tbody>\n",
       "    <tr>\n",
       "      <th>0</th>\n",
       "      <td>Ryerson</td>\n",
       "      <td>25.0</td>\n",
       "      <td>0.0</td>\n",
       "      <td>8.0</td>\n",
       "      <td>3.0</td>\n",
       "      <td>0.0</td>\n",
       "      <td>36.0</td>\n",
       "    </tr>\n",
       "    <tr>\n",
       "      <th>1</th>\n",
       "      <td>Church and Wellesley</td>\n",
       "      <td>23.0</td>\n",
       "      <td>0.0</td>\n",
       "      <td>6.0</td>\n",
       "      <td>2.0</td>\n",
       "      <td>0.0</td>\n",
       "      <td>31.0</td>\n",
       "    </tr>\n",
       "    <tr>\n",
       "      <th>2</th>\n",
       "      <td>Adelaide</td>\n",
       "      <td>10.0</td>\n",
       "      <td>0.0</td>\n",
       "      <td>3.0</td>\n",
       "      <td>11.0</td>\n",
       "      <td>0.0</td>\n",
       "      <td>24.0</td>\n",
       "    </tr>\n",
       "    <tr>\n",
       "      <th>3</th>\n",
       "      <td>St. James Town</td>\n",
       "      <td>14.0</td>\n",
       "      <td>0.0</td>\n",
       "      <td>6.0</td>\n",
       "      <td>0.0</td>\n",
       "      <td>0.0</td>\n",
       "      <td>20.0</td>\n",
       "    </tr>\n",
       "    <tr>\n",
       "      <th>4</th>\n",
       "      <td>Harbourfront East</td>\n",
       "      <td>10.0</td>\n",
       "      <td>0.0</td>\n",
       "      <td>4.0</td>\n",
       "      <td>0.0</td>\n",
       "      <td>0.0</td>\n",
       "      <td>14.0</td>\n",
       "    </tr>\n",
       "    <tr>\n",
       "      <th>5</th>\n",
       "      <td>Berczy Park</td>\n",
       "      <td>6.0</td>\n",
       "      <td>0.0</td>\n",
       "      <td>6.0</td>\n",
       "      <td>0.0</td>\n",
       "      <td>0.0</td>\n",
       "      <td>12.0</td>\n",
       "    </tr>\n",
       "    <tr>\n",
       "      <th>6</th>\n",
       "      <td>Harbourfront</td>\n",
       "      <td>5.0</td>\n",
       "      <td>0.0</td>\n",
       "      <td>3.0</td>\n",
       "      <td>0.0</td>\n",
       "      <td>0.0</td>\n",
       "      <td>8.0</td>\n",
       "    </tr>\n",
       "    <tr>\n",
       "      <th>7</th>\n",
       "      <td>Central Bay Street</td>\n",
       "      <td>4.0</td>\n",
       "      <td>0.0</td>\n",
       "      <td>0.0</td>\n",
       "      <td>0.0</td>\n",
       "      <td>1.0</td>\n",
       "      <td>5.0</td>\n",
       "    </tr>\n",
       "    <tr>\n",
       "      <th>8</th>\n",
       "      <td>Harbord</td>\n",
       "      <td>5.0</td>\n",
       "      <td>0.0</td>\n",
       "      <td>0.0</td>\n",
       "      <td>0.0</td>\n",
       "      <td>0.0</td>\n",
       "      <td>5.0</td>\n",
       "    </tr>\n",
       "    <tr>\n",
       "      <th>9</th>\n",
       "      <td>Chinatown</td>\n",
       "      <td>0.0</td>\n",
       "      <td>2.0</td>\n",
       "      <td>1.0</td>\n",
       "      <td>2.0</td>\n",
       "      <td>0.0</td>\n",
       "      <td>5.0</td>\n",
       "    </tr>\n",
       "  </tbody>\n",
       "</table>\n",
       "</div>"
      ],
      "text/plain": [
       "           Neighborhood   Gym  Vegan  Sport  Nightclub  Hookah  Total\n",
       "0               Ryerson  25.0    0.0    8.0        3.0     0.0   36.0\n",
       "1  Church and Wellesley  23.0    0.0    6.0        2.0     0.0   31.0\n",
       "2              Adelaide  10.0    0.0    3.0       11.0     0.0   24.0\n",
       "3        St. James Town  14.0    0.0    6.0        0.0     0.0   20.0\n",
       "4     Harbourfront East  10.0    0.0    4.0        0.0     0.0   14.0\n",
       "5           Berczy Park   6.0    0.0    6.0        0.0     0.0   12.0\n",
       "6          Harbourfront   5.0    0.0    3.0        0.0     0.0    8.0\n",
       "7    Central Bay Street   4.0    0.0    0.0        0.0     1.0    5.0\n",
       "8               Harbord   5.0    0.0    0.0        0.0     0.0    5.0\n",
       "9             Chinatown   0.0    2.0    1.0        2.0     0.0    5.0"
      ]
     },
     "execution_count": 53,
     "metadata": {},
     "output_type": "execute_result"
    }
   ],
   "source": [
    "df_toronto_sort"
   ]
  },
  {
   "cell_type": "code",
   "execution_count": 54,
   "metadata": {},
   "outputs": [],
   "source": [
    "df_nyc_plt = df_nyc_sort.sort_values(by = 'Total', ascending = True)\n",
    "df_toronto_plt = df_toronto_sort.sort_values(by = 'Total', ascending = True)"
   ]
  },
  {
   "cell_type": "code",
   "execution_count": 56,
   "metadata": {},
   "outputs": [],
   "source": [
    "def plot_stack_bar(df_plt, city_name, leg):\n",
    "    des_word_list = ['Gym', 'Vegan restaurant', 'Sporting goods', 'Nightclub', 'Hookah lounge']\n",
    "\n",
    "    x = df_plt.iloc[:,0]\n",
    "    y1 = df_plt.iloc[:,1]\n",
    "    y2 = df_plt.iloc[:,2]\n",
    "    y3 = df_plt.iloc[:,3]\n",
    "    y4 = df_plt.iloc[:,4]\n",
    "    y5 = df_plt.iloc[:,5]\n",
    "\n",
    "    figsize = (12, 4) # figure size\n",
    "    lfsize = 15  # label font size\n",
    "    tfsize = 20  # title font size\n",
    "    bar_wid = 0.6 # bar width\n",
    "    alp = 0.6   # transparency\n",
    "\n",
    "    plt.figure(figsize = figsize)\n",
    "\n",
    "    p1 = plt.barh(x, y1, height = bar_wid, alpha = alp)\n",
    "    p2 = plt.barh(x, y2, height = bar_wid, left = y1, alpha = alp)\n",
    "    p3 = plt.barh(x, y3, height = bar_wid, left = y1 + y2, alpha = alp)\n",
    "    p4 = plt.barh(x, y4, height = bar_wid, left = y1 + y2 + y3, alpha = alp)\n",
    "    p5 = plt.barh(x, y5, height = bar_wid, left = y1 + y2 + y3 + y4, alpha = alp)\n",
    "\n",
    "\n",
    "    plt.xlabel('Number of venues', fontsize = lfsize)\n",
    "    plt.xticks(fontsize = lfsize)\n",
    "    plt.yticks(fontsize = lfsize)\n",
    "    plt.title('Top 10 neighborhoods by number of venues ' + '(' + city_name + ')', fontsize = tfsize)\n",
    "    \n",
    "    if leg > 0:\n",
    "        plt.legend((p1[0],p2[0],p3[0],p4[0],p5[0]), des_word_list, fontsize = 14, frameon = False)\n",
    "    plt.show()"
   ]
  },
  {
   "cell_type": "code",
   "execution_count": 57,
   "metadata": {},
   "outputs": [],
   "source": [
    "def plot_bar(df_plt):\n",
    "    figsize = (10, 4) # figure size\n",
    "    lfsize = 15  # label font size\n",
    "    tfsize = 20  # title font size\n",
    "\n",
    "    ax = df_plt.plot(kind = 'barh', \n",
    "                 figsize = figsize, \n",
    "                 fontsize = lfsize,\n",
    "                legend = False)\n",
    "    plt.xlabel('Number of Gyms', fontsize = lfsize)\n",
    "    plt.ylabel('', fontsize = lfsize)\n",
    "    plt.title('Top 10 neighborhoods by number of gym (Manhattan, NYC)', fontsize = tfsize)\n",
    "\n",
    "    ax.spines['top'].set_visible(False)\n",
    "    ax.spines['left'].set_visible(False)\n",
    "    ax.spines['bottom'].set_visible(False)\n",
    "    ax.spines['right'].set_visible(False)\n",
    "\n",
    "    plt.show()"
   ]
  },
  {
   "cell_type": "code",
   "execution_count": 58,
   "metadata": {},
   "outputs": [
    {
     "data": {
      "image/png": "[encoded data removed]",
      "text/plain": [
       "<Figure size 864x288 with 1 Axes>"
      ]
     },
     "metadata": {
      "needs_background": "light"
     },
     "output_type": "display_data"
    },
    {
     "data": {
      "image/png": "[encoded data removed]",
      "text/plain": [
       "<Figure size 864x288 with 1 Axes>"
      ]
     },
     "metadata": {
      "needs_background": "light"
     },
     "output_type": "display_data"
    }
   ],
   "source": [
    "plot_stack_bar(df_nyc_plt, 'Manhattan, NYC',1)   # > 0: plot legend\n",
    "plot_stack_bar(df_toronto_plt, 'Downtown Toronto',1)"
   ]
  },
  {
   "cell_type": "markdown",
   "metadata": {},
   "source": [
    "#### Given the statistics of feature venues, we want to calculate per population number of venues in order to take out the population factor when comparing NYC with Toronto on a fair basis. We get demographic information from wikipedia that population in 2017:<br>\n",
    "> Manhattan, NY: 1.66 Million (2017)<br>\n",
    "> Downtown Toronto: 0.25 Million (2016)*\n",
    "\n",
    "* https://www.cp24.com/news/downtown-population-will-nearly-double-by-2041-amid-building-and-baby-boom-keesmaat-1.2846605"
   ]
  },
  {
   "cell_type": "code",
   "execution_count": 59,
   "metadata": {},
   "outputs": [
    {
     "name": "stdout",
     "output_type": "stream",
     "text": [
      "Total number of venues (per population) in Manhattan is: 6.77 per 10,000 people.\n",
      "Total number of venues (per population) in Downtown Toronto is: 6.48 per 10,000 people.\n"
     ]
    }
   ],
   "source": [
    "popu_man = 1.66e6\n",
    "popu_dtt = 0.25e6\n",
    "nyc_venue_sum = df_nyc_feature['Total'].sum()\n",
    "toronto_venue_sum = df_toronto_feature['Total'].sum()\n",
    "\n",
    "venue_dens_nyc = nyc_venue_sum/popu_man*10000\n",
    "venue_dens_dtt = toronto_venue_sum/popu_dtt*10000\n",
    "\n",
    "print('Total number of venues (per population) in Manhattan is: %.2f' % venue_dens_nyc + ' per 10,000 people.')\n",
    "print('Total number of venues (per population) in Downtown Toronto is: %.2f' % venue_dens_dtt + ' per 10,000 people.')"
   ]
  },
  {
   "cell_type": "markdown",
   "metadata": {},
   "source": [
    "#### It is shown that the per population figure of NYC is close to that of Toronto. The results indicate that people in Manhattan and Downtown Toronto have similar preference of a healthy lifestyle, and therefore similar openness to the idea of natural herb, such as Cannabis, based health products.    "
   ]
  },
  {
   "cell_type": "markdown",
   "metadata": {},
   "source": [
    "### 2. Location convenience of feature venues by neighborhood"
   ]
  },
  {
   "cell_type": "code",
   "execution_count": 60,
   "metadata": {},
   "outputs": [],
   "source": [
    "key_word_list = ['gym', 'vegan', 'sports', 'nightclub', 'hookah']\n",
    "cities = ['nyc', 'toronto']\n",
    "\n",
    "key_list = key_word_list[:-1]  \n",
    "filt_word_list = ['Gym', 'Vegan', 'Sport', 'Nightclub', 'Hookah']"
   ]
  },
  {
   "cell_type": "code",
   "execution_count": 61,
   "metadata": {},
   "outputs": [],
   "source": [
    "def feature_dist(city_name):\n",
    "    \n",
    "    for key, filt in zip(key_list, filt_word_list):\n",
    "        df_file = 'df_' + city_name + '_' + key + '.csv'        \n",
    "        df = pd.read_csv(df_file)\n",
    "        df_fil_cat = df[df['Categories'].str.contains(filt)] # furter filter out irrelevant rows\n",
    "        df_fil_nam = df[df['Name'].str.contains(filt)] \n",
    "        df_fil = pd.concat([df_fil_cat, df_fil_nam], axis = 0, ignore_index = True)\n",
    "        df_fil = df_fil.drop_duplicates('ID')   # drop duplicate rows where 'ID' is identical       \n",
    "    \n",
    "        if key == key_list[0]:\n",
    "            df_ret = df_fil.copy()\n",
    "        else:\n",
    "            df_ret = pd.concat([df_ret, df_fil], axis = 0, ignore_index = True)\n",
    "   \n",
    "        df_ret = df_ret.drop_duplicates('ID')   # drop duplicate rows where 'ID' is identical  \n",
    "    \n",
    "    return df_ret"
   ]
  },
  {
   "cell_type": "markdown",
   "metadata": {},
   "source": [
    "The features of each relevant venue is saved below:"
   ]
  },
  {
   "cell_type": "code",
   "execution_count": 62,
   "metadata": {},
   "outputs": [],
   "source": [
    "df_feat_dist_nyc = feature_dist('nyc')\n",
    "df_feat_dist_toronto = feature_dist('toronto')\n",
    "\n",
    "reduce_nei_name(df_feat_dist_toronto)"
   ]
  },
  {
   "cell_type": "code",
   "execution_count": 63,
   "metadata": {},
   "outputs": [],
   "source": [
    "# get top 5 neighborhoods in NYC and Toronto\n",
    "top5_nei_nyc = df_nyc_sort.loc[0:4,'Neighborhood'].to_list()\n",
    "top5_nei_toronto = df_toronto_sort.loc[0:4,'Neighborhood'].to_list()\n",
    "\n",
    "# select rows in the top 5 list\n",
    "df_nyc_top5 = df_feat_dist_nyc[df_feat_dist_nyc['Neighborhood'].isin(top5_nei_nyc)]\n",
    "df_toronto_top5 = df_feat_dist_toronto[df_feat_dist_toronto['Neighborhood'].isin(top5_nei_toronto)]"
   ]
  },
  {
   "cell_type": "code",
   "execution_count": 64,
   "metadata": {},
   "outputs": [],
   "source": [
    "# return a dataframe with distance of each neighborhood in the city\n",
    "def dist_dataframe(df, city):\n",
    "    \n",
    "    df_ret = pd.DataFrame(columns = [])\n",
    "    if city == 'nyc':\n",
    "        top_nei = top5_nei_nyc\n",
    "    else:\n",
    "        top_nei = top5_nei_toronto\n",
    "\n",
    "    for nei in top_nei:\n",
    "        \n",
    "            df_temp = df[df['Neighborhood'] == nei]\n",
    "            df_temp.reset_index(drop = True, inplace = True)\n",
    "            df_ret[nei] = df_temp['Distance']\n",
    "    \n",
    "    return df_ret\n"
   ]
  },
  {
   "cell_type": "code",
   "execution_count": 65,
   "metadata": {},
   "outputs": [],
   "source": [
    "df_nyc_dist = dist_dataframe(df_nyc_top5, 'nyc')\n",
    "df_toronto_dist = dist_dataframe(df_toronto_top5, 'toronto')"
   ]
  },
  {
   "cell_type": "code",
   "execution_count": null,
   "metadata": {},
   "outputs": [],
   "source": []
  },
  {
   "cell_type": "code",
   "execution_count": 66,
   "metadata": {},
   "outputs": [],
   "source": [
    "def sns_plot_box(df, city):\n",
    "    \n",
    "    figsize = (5, 4) # figure size\n",
    "    lfsize = 15  # label font size\n",
    "    tfsize = 16  # title font size\n",
    "    alp = 0.6   # transparency\n",
    "    \n",
    "    plt.figure(figsize = figsize)\n",
    "    sns.boxplot(data = df, width = 0.4, boxprops = dict(alpha = alp))\n",
    "                #figsize = figsize, fontsize = lfsize, rot = 45)\n",
    "    \n",
    "        \n",
    "    plt.title('Disatance to neighborhood center: ' + city, fontsize = tfsize)\n",
    "    plt.ylabel('Distance (M)', fontsize = lfsize)\n",
    "    plt.xticks(fontsize = lfsize, rotation = 45, horizontalalignment = 'right')\n",
    "    plt.yticks(fontsize = lfsize)\n",
    "    plt.show()\n"
   ]
  },
  {
   "cell_type": "code",
   "execution_count": 67,
   "metadata": {},
   "outputs": [
    {
     "data": {
      "image/png": "[encoded data removed]",
      "text/plain": [
       "<Figure size 360x288 with 1 Axes>"
      ]
     },
     "metadata": {
      "needs_background": "light"
     },
     "output_type": "display_data"
    },
    {
     "data": {
      "image/png": "[encoded data removed]",
      "text/plain": [
       "<Figure size 360x288 with 1 Axes>"
      ]
     },
     "metadata": {
      "needs_background": "light"
     },
     "output_type": "display_data"
    }
   ],
   "source": [
    "# make boxplot of distance by neighborhood\n",
    "sns_plot_box(df_nyc_dist, 'Manhattan, NY')\n",
    "sns_plot_box(df_toronto_dist, 'Downtown Toronto')"
   ]
  },
  {
   "cell_type": "markdown",
   "metadata": {},
   "source": [
    "### 3. Visualize top neighborhoods on the map"
   ]
  },
  {
   "cell_type": "markdown",
   "metadata": {},
   "source": [
    "Get top 10 neighborhoods data in NYC and Toronto."
   ]
  },
  {
   "cell_type": "code",
   "execution_count": 68,
   "metadata": {},
   "outputs": [],
   "source": [
    "from geopy.geocoders import Nominatim # convert an address into latitude and longitude values\n",
    "import folium # map rendering library"
   ]
  },
  {
   "cell_type": "code",
   "execution_count": 69,
   "metadata": {},
   "outputs": [
    {
     "data": {
      "text/html": [
       "<div>\n",
       "<style scoped>\n",
       "    .dataframe tbody tr th:only-of-type {\n",
       "        vertical-align: middle;\n",
       "    }\n",
       "\n",
       "    .dataframe tbody tr th {\n",
       "        vertical-align: top;\n",
       "    }\n",
       "\n",
       "    .dataframe thead th {\n",
       "        text-align: right;\n",
       "    }\n",
       "</style>\n",
       "<table border=\"1\" class=\"dataframe\">\n",
       "  <thead>\n",
       "    <tr style=\"text-align: right;\">\n",
       "      <th></th>\n",
       "      <th>Neighborhood</th>\n",
       "      <th>Gym</th>\n",
       "      <th>Vegan</th>\n",
       "      <th>Sport</th>\n",
       "      <th>Nightclub</th>\n",
       "      <th>Hookah</th>\n",
       "      <th>Total</th>\n",
       "    </tr>\n",
       "  </thead>\n",
       "  <tbody>\n",
       "    <tr>\n",
       "      <th>0</th>\n",
       "      <td>Midtown</td>\n",
       "      <td>42.0</td>\n",
       "      <td>0.0</td>\n",
       "      <td>46.0</td>\n",
       "      <td>3.0</td>\n",
       "      <td>0.0</td>\n",
       "      <td>91.0</td>\n",
       "    </tr>\n",
       "    <tr>\n",
       "      <th>1</th>\n",
       "      <td>Flatiron</td>\n",
       "      <td>37.0</td>\n",
       "      <td>1.0</td>\n",
       "      <td>32.0</td>\n",
       "      <td>1.0</td>\n",
       "      <td>0.0</td>\n",
       "      <td>71.0</td>\n",
       "    </tr>\n",
       "    <tr>\n",
       "      <th>2</th>\n",
       "      <td>Midtown South</td>\n",
       "      <td>44.0</td>\n",
       "      <td>1.0</td>\n",
       "      <td>23.0</td>\n",
       "      <td>1.0</td>\n",
       "      <td>1.0</td>\n",
       "      <td>70.0</td>\n",
       "    </tr>\n",
       "    <tr>\n",
       "      <th>3</th>\n",
       "      <td>Murray Hill</td>\n",
       "      <td>38.0</td>\n",
       "      <td>1.0</td>\n",
       "      <td>24.0</td>\n",
       "      <td>0.0</td>\n",
       "      <td>1.0</td>\n",
       "      <td>64.0</td>\n",
       "    </tr>\n",
       "    <tr>\n",
       "      <th>4</th>\n",
       "      <td>Clinton</td>\n",
       "      <td>42.0</td>\n",
       "      <td>0.0</td>\n",
       "      <td>7.0</td>\n",
       "      <td>1.0</td>\n",
       "      <td>4.0</td>\n",
       "      <td>54.0</td>\n",
       "    </tr>\n",
       "  </tbody>\n",
       "</table>\n",
       "</div>"
      ],
      "text/plain": [
       "    Neighborhood   Gym  Vegan  Sport  Nightclub  Hookah  Total\n",
       "0        Midtown  42.0    0.0   46.0        3.0     0.0   91.0\n",
       "1       Flatiron  37.0    1.0   32.0        1.0     0.0   71.0\n",
       "2  Midtown South  44.0    1.0   23.0        1.0     1.0   70.0\n",
       "3    Murray Hill  38.0    1.0   24.0        0.0     1.0   64.0\n",
       "4        Clinton  42.0    0.0    7.0        1.0     4.0   54.0"
      ]
     },
     "execution_count": 69,
     "metadata": {},
     "output_type": "execute_result"
    }
   ],
   "source": [
    "# sort\n",
    "df_nyc_sort_all = df_nyc_feature.sort_values(by = 'Total', axis = 0, ascending = False)\n",
    "df_nyc_sort_all.reset_index(drop = True, inplace = True)\n",
    "\n",
    "df_toronto_sort_all = df_toronto_feature.sort_values(by = 'Total', axis = 0, ascending = False)\n",
    "df_toronto_sort_all.reset_index(drop = True, inplace = True)\n",
    "\n",
    "df_nyc_sort_all.head()"
   ]
  },
  {
   "cell_type": "code",
   "execution_count": 70,
   "metadata": {},
   "outputs": [
    {
     "data": {
      "text/html": [
       "<div>\n",
       "<style scoped>\n",
       "    .dataframe tbody tr th:only-of-type {\n",
       "        vertical-align: middle;\n",
       "    }\n",
       "\n",
       "    .dataframe tbody tr th {\n",
       "        vertical-align: top;\n",
       "    }\n",
       "\n",
       "    .dataframe thead th {\n",
       "        text-align: right;\n",
       "    }\n",
       "</style>\n",
       "<table border=\"1\" class=\"dataframe\">\n",
       "  <thead>\n",
       "    <tr style=\"text-align: right;\">\n",
       "      <th></th>\n",
       "      <th>Borough</th>\n",
       "      <th>Neighborhood</th>\n",
       "      <th>Latitude</th>\n",
       "      <th>Longitude</th>\n",
       "      <th>Gym</th>\n",
       "      <th>Vegan</th>\n",
       "      <th>Sport</th>\n",
       "      <th>Nightclub</th>\n",
       "      <th>Hookah</th>\n",
       "      <th>Total</th>\n",
       "    </tr>\n",
       "  </thead>\n",
       "  <tbody>\n",
       "    <tr>\n",
       "      <th>0</th>\n",
       "      <td>Manhattan</td>\n",
       "      <td>Marble Hill</td>\n",
       "      <td>40.876551</td>\n",
       "      <td>-73.910660</td>\n",
       "      <td>2.0</td>\n",
       "      <td>0.0</td>\n",
       "      <td>1.0</td>\n",
       "      <td>0.0</td>\n",
       "      <td>0.0</td>\n",
       "      <td>3.0</td>\n",
       "    </tr>\n",
       "    <tr>\n",
       "      <th>1</th>\n",
       "      <td>Manhattan</td>\n",
       "      <td>Chinatown</td>\n",
       "      <td>40.715618</td>\n",
       "      <td>-73.994279</td>\n",
       "      <td>10.0</td>\n",
       "      <td>1.0</td>\n",
       "      <td>5.0</td>\n",
       "      <td>0.0</td>\n",
       "      <td>0.0</td>\n",
       "      <td>16.0</td>\n",
       "    </tr>\n",
       "    <tr>\n",
       "      <th>2</th>\n",
       "      <td>Manhattan</td>\n",
       "      <td>Washington Heights</td>\n",
       "      <td>40.851903</td>\n",
       "      <td>-73.936900</td>\n",
       "      <td>3.0</td>\n",
       "      <td>0.0</td>\n",
       "      <td>0.0</td>\n",
       "      <td>0.0</td>\n",
       "      <td>1.0</td>\n",
       "      <td>4.0</td>\n",
       "    </tr>\n",
       "    <tr>\n",
       "      <th>3</th>\n",
       "      <td>Manhattan</td>\n",
       "      <td>Inwood</td>\n",
       "      <td>40.867684</td>\n",
       "      <td>-73.921210</td>\n",
       "      <td>0.0</td>\n",
       "      <td>0.0</td>\n",
       "      <td>2.0</td>\n",
       "      <td>1.0</td>\n",
       "      <td>0.0</td>\n",
       "      <td>3.0</td>\n",
       "    </tr>\n",
       "    <tr>\n",
       "      <th>4</th>\n",
       "      <td>Manhattan</td>\n",
       "      <td>Hamilton Heights</td>\n",
       "      <td>40.823604</td>\n",
       "      <td>-73.949688</td>\n",
       "      <td>6.0</td>\n",
       "      <td>0.0</td>\n",
       "      <td>5.0</td>\n",
       "      <td>1.0</td>\n",
       "      <td>1.0</td>\n",
       "      <td>13.0</td>\n",
       "    </tr>\n",
       "  </tbody>\n",
       "</table>\n",
       "</div>"
      ],
      "text/plain": [
       "     Borough        Neighborhood   Latitude  Longitude   Gym  Vegan  Sport  \\\n",
       "0  Manhattan         Marble Hill  40.876551 -73.910660   2.0    0.0    1.0   \n",
       "1  Manhattan           Chinatown  40.715618 -73.994279  10.0    1.0    5.0   \n",
       "2  Manhattan  Washington Heights  40.851903 -73.936900   3.0    0.0    0.0   \n",
       "3  Manhattan              Inwood  40.867684 -73.921210   0.0    0.0    2.0   \n",
       "4  Manhattan    Hamilton Heights  40.823604 -73.949688   6.0    0.0    5.0   \n",
       "\n",
       "   Nightclub  Hookah  Total  \n",
       "0        0.0     0.0    3.0  \n",
       "1        0.0     0.0   16.0  \n",
       "2        0.0     1.0    4.0  \n",
       "3        1.0     0.0    3.0  \n",
       "4        1.0     1.0   13.0  "
      ]
     },
     "execution_count": 70,
     "metadata": {},
     "output_type": "execute_result"
    }
   ],
   "source": [
    "# get a dataframe containing coordinates and venue statistics of all neighborhoods\n",
    "df_nyc_ll_vnum = df_nyc_main.merge(df_nyc_sort_all, on = 'Neighborhood', how = 'left')\n",
    "df_nyc_ll_vnum.head()"
   ]
  },
  {
   "cell_type": "code",
   "execution_count": 104,
   "metadata": {},
   "outputs": [
    {
     "name": "stdout",
     "output_type": "stream",
     "text": [
      "The geograpical coordinate of NYC are 40.7900869, -73.9598295.\n"
     ]
    }
   ],
   "source": [
    "address = 'Manhattan, NY'\n",
    "geolocator = Nominatim(user_agent=\"nyc_explorer\")\n",
    "\n",
    "location = geolocator.geocode(address)\n",
    "latitude = location.latitude\n",
    "longitude = location.longitude\n",
    "print('The geograpical coordinate of NYC are {}, {}.'.format(latitude, longitude))"
   ]
  },
  {
   "cell_type": "code",
   "execution_count": 105,
   "metadata": {},
   "outputs": [
    {
     "data": {
      "text/html": [
       "<div style=\"width:100%;\"><div style=\"position:relative;width:100%;height:0;padding-bottom:60%;\"><iframe src=\"data:text/html;charset=utf-8;base64,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\" style=\"position:absolute;width:100%;height:100%;left:0;top:0;border:none !important;\" allowfullscreen webkitallowfullscreen mozallowfullscreen></iframe></div></div>"
      ],
      "text/plain": [
       "<folium.folium.Map at 0x7f3b7e23e7f0>"
      ]
     },
     "execution_count": 105,
     "metadata": {},
     "output_type": "execute_result"
    }
   ],
   "source": [
    "man_map = folium.Map(location = [latitude, longitude], tiles='cartodbpositron', zoom_start= 11)\n",
    "\n",
    "man_geo = r'manhattan.geojson.txt' # geojson file\n",
    "\n",
    "man_map.choropleth(\n",
    "    geo_data = man_geo,\n",
    "    data = df_nyc_ll_vnum, \n",
    "    columns = ['Neighborhood', 'Total'],\n",
    "    key_on = 'feature.properties.name',\n",
    "    fill_color = 'YlOrRd', \n",
    "    fill_opacity = 0.7, \n",
    "    line_opacity = 0.2,\n",
    "    legend_name = 'Number of feature venues'\n",
    ")\n",
    "man_map"
   ]
  },
  {
   "cell_type": "markdown",
   "metadata": {},
   "source": [
    "## Predicative modeling"
   ]
  },
  {
   "cell_type": "markdown",
   "metadata": {},
   "source": [
    "### 1. Generating the dataset including all features: <br>\n",
    "> Location <br> Breakdown of relevant venues (gym, vegan restaurant, sporting goods, nightclub, hookah lounge) <br> Popularity"
   ]
  },
  {
   "cell_type": "markdown",
   "metadata": {},
   "source": [
    "First, let's take a look at the dataframe we have so far regarding features of each neighborhood."
   ]
  },
  {
   "cell_type": "code",
   "execution_count": 73,
   "metadata": {},
   "outputs": [
    {
     "data": {
      "text/html": [
       "<div>\n",
       "<style scoped>\n",
       "    .dataframe tbody tr th:only-of-type {\n",
       "        vertical-align: middle;\n",
       "    }\n",
       "\n",
       "    .dataframe tbody tr th {\n",
       "        vertical-align: top;\n",
       "    }\n",
       "\n",
       "    .dataframe thead th {\n",
       "        text-align: right;\n",
       "    }\n",
       "</style>\n",
       "<table border=\"1\" class=\"dataframe\">\n",
       "  <thead>\n",
       "    <tr style=\"text-align: right;\">\n",
       "      <th></th>\n",
       "      <th>Name</th>\n",
       "      <th>ID</th>\n",
       "      <th>Categories</th>\n",
       "      <th>Distance</th>\n",
       "      <th>Latitude</th>\n",
       "      <th>Longitude</th>\n",
       "      <th>Neighborhood</th>\n",
       "    </tr>\n",
       "  </thead>\n",
       "  <tbody>\n",
       "    <tr>\n",
       "      <th>0</th>\n",
       "      <td>Planet Fitness</td>\n",
       "      <td>4aa00bcdf964a520103e20e3</td>\n",
       "      <td>Gym / Fitness Center</td>\n",
       "      <td>302</td>\n",
       "      <td>40.874088</td>\n",
       "      <td>-73.909137</td>\n",
       "      <td>Marble Hill</td>\n",
       "    </tr>\n",
       "    <tr>\n",
       "      <th>1</th>\n",
       "      <td>Astral Fitness &amp; Wellness Center</td>\n",
       "      <td>4cf6ae55d3a8a1cd71a9d243</td>\n",
       "      <td>Gym</td>\n",
       "      <td>361</td>\n",
       "      <td>40.876705</td>\n",
       "      <td>-73.906372</td>\n",
       "      <td>Marble Hill</td>\n",
       "    </tr>\n",
       "    <tr>\n",
       "      <th>2</th>\n",
       "      <td>Seward Park High School Gym</td>\n",
       "      <td>4b984ce7f964a5207e3a35e3</td>\n",
       "      <td>College Gym</td>\n",
       "      <td>433</td>\n",
       "      <td>40.716889</td>\n",
       "      <td>-73.989426</td>\n",
       "      <td>Chinatown</td>\n",
       "    </tr>\n",
       "    <tr>\n",
       "      <th>3</th>\n",
       "      <td>Gym</td>\n",
       "      <td>4ee504e85c5cfa48fafcfd4f</td>\n",
       "      <td>Gym</td>\n",
       "      <td>241</td>\n",
       "      <td>40.716540</td>\n",
       "      <td>-73.996871</td>\n",
       "      <td>Chinatown</td>\n",
       "    </tr>\n",
       "    <tr>\n",
       "      <th>4</th>\n",
       "      <td>The Gym at The Crossroads</td>\n",
       "      <td>4fbb7cb2e4b0d498b403d874</td>\n",
       "      <td>Gym</td>\n",
       "      <td>366</td>\n",
       "      <td>40.714009</td>\n",
       "      <td>-73.990495</td>\n",
       "      <td>Chinatown</td>\n",
       "    </tr>\n",
       "  </tbody>\n",
       "</table>\n",
       "</div>"
      ],
      "text/plain": [
       "                               Name                        ID  \\\n",
       "0                    Planet Fitness  4aa00bcdf964a520103e20e3   \n",
       "1  Astral Fitness & Wellness Center  4cf6ae55d3a8a1cd71a9d243   \n",
       "2       Seward Park High School Gym  4b984ce7f964a5207e3a35e3   \n",
       "3                               Gym  4ee504e85c5cfa48fafcfd4f   \n",
       "4         The Gym at The Crossroads  4fbb7cb2e4b0d498b403d874   \n",
       "\n",
       "             Categories  Distance   Latitude  Longitude Neighborhood  \n",
       "0  Gym / Fitness Center       302  40.874088 -73.909137  Marble Hill  \n",
       "1                   Gym       361  40.876705 -73.906372  Marble Hill  \n",
       "2           College Gym       433  40.716889 -73.989426    Chinatown  \n",
       "3                   Gym       241  40.716540 -73.996871    Chinatown  \n",
       "4                   Gym       366  40.714009 -73.990495    Chinatown  "
      ]
     },
     "execution_count": 73,
     "metadata": {},
     "output_type": "execute_result"
    }
   ],
   "source": [
    "df_nyc_ll_vnum.head()\n",
    "df_feat_dist_nyc.head()"
   ]
  },
  {
   "cell_type": "markdown",
   "metadata": {},
   "source": [
    "Then, let's put all features together for neighborhoods in NYC. The final dataframe (df_nyc_final_feat) will be used for predictive modeling."
   ]
  },
  {
   "cell_type": "code",
   "execution_count": 74,
   "metadata": {},
   "outputs": [
    {
     "data": {
      "text/html": [
       "<div>\n",
       "<style scoped>\n",
       "    .dataframe tbody tr th:only-of-type {\n",
       "        vertical-align: middle;\n",
       "    }\n",
       "\n",
       "    .dataframe tbody tr th {\n",
       "        vertical-align: top;\n",
       "    }\n",
       "\n",
       "    .dataframe thead th {\n",
       "        text-align: right;\n",
       "    }\n",
       "</style>\n",
       "<table border=\"1\" class=\"dataframe\">\n",
       "  <thead>\n",
       "    <tr style=\"text-align: right;\">\n",
       "      <th></th>\n",
       "      <th>Neighborhood</th>\n",
       "      <th>Distance</th>\n",
       "    </tr>\n",
       "  </thead>\n",
       "  <tbody>\n",
       "    <tr>\n",
       "      <th>0</th>\n",
       "      <td>Battery Park City</td>\n",
       "      <td>383.000000</td>\n",
       "    </tr>\n",
       "    <tr>\n",
       "      <th>1</th>\n",
       "      <td>Carnegie Hill</td>\n",
       "      <td>361.285714</td>\n",
       "    </tr>\n",
       "    <tr>\n",
       "      <th>2</th>\n",
       "      <td>Central Harlem</td>\n",
       "      <td>418.714286</td>\n",
       "    </tr>\n",
       "    <tr>\n",
       "      <th>3</th>\n",
       "      <td>Chelsea</td>\n",
       "      <td>408.300000</td>\n",
       "    </tr>\n",
       "    <tr>\n",
       "      <th>4</th>\n",
       "      <td>Chinatown</td>\n",
       "      <td>437.687500</td>\n",
       "    </tr>\n",
       "  </tbody>\n",
       "</table>\n",
       "</div>"
      ],
      "text/plain": [
       "        Neighborhood    Distance\n",
       "0  Battery Park City  383.000000\n",
       "1      Carnegie Hill  361.285714\n",
       "2     Central Harlem  418.714286\n",
       "3            Chelsea  408.300000\n",
       "4          Chinatown  437.687500"
      ]
     },
     "execution_count": 74,
     "metadata": {},
     "output_type": "execute_result"
    }
   ],
   "source": [
    "df_dist = df_feat_dist_nyc.groupby('Neighborhood').mean()['Distance'].to_frame()\n",
    "df_dist.reset_index(inplace = True)\n",
    "df_dist.head()"
   ]
  },
  {
   "cell_type": "code",
   "execution_count": 75,
   "metadata": {},
   "outputs": [
    {
     "data": {
      "text/html": [
       "<div>\n",
       "<style scoped>\n",
       "    .dataframe tbody tr th:only-of-type {\n",
       "        vertical-align: middle;\n",
       "    }\n",
       "\n",
       "    .dataframe tbody tr th {\n",
       "        vertical-align: top;\n",
       "    }\n",
       "\n",
       "    .dataframe thead th {\n",
       "        text-align: right;\n",
       "    }\n",
       "</style>\n",
       "<table border=\"1\" class=\"dataframe\">\n",
       "  <thead>\n",
       "    <tr style=\"text-align: right;\">\n",
       "      <th></th>\n",
       "      <th>Borough</th>\n",
       "      <th>Neighborhood</th>\n",
       "      <th>Latitude</th>\n",
       "      <th>Longitude</th>\n",
       "      <th>Gym</th>\n",
       "      <th>Vegan</th>\n",
       "      <th>Sport</th>\n",
       "      <th>Nightclub</th>\n",
       "      <th>Hookah</th>\n",
       "      <th>Distance</th>\n",
       "    </tr>\n",
       "  </thead>\n",
       "  <tbody>\n",
       "    <tr>\n",
       "      <th>0</th>\n",
       "      <td>Manhattan</td>\n",
       "      <td>Marble Hill</td>\n",
       "      <td>40.876551</td>\n",
       "      <td>-73.910660</td>\n",
       "      <td>2.0</td>\n",
       "      <td>0.0</td>\n",
       "      <td>1.0</td>\n",
       "      <td>0.0</td>\n",
       "      <td>0.0</td>\n",
       "      <td>426.666667</td>\n",
       "    </tr>\n",
       "    <tr>\n",
       "      <th>1</th>\n",
       "      <td>Manhattan</td>\n",
       "      <td>Chinatown</td>\n",
       "      <td>40.715618</td>\n",
       "      <td>-73.994279</td>\n",
       "      <td>10.0</td>\n",
       "      <td>1.0</td>\n",
       "      <td>5.0</td>\n",
       "      <td>0.0</td>\n",
       "      <td>0.0</td>\n",
       "      <td>437.687500</td>\n",
       "    </tr>\n",
       "    <tr>\n",
       "      <th>2</th>\n",
       "      <td>Manhattan</td>\n",
       "      <td>Washington Heights</td>\n",
       "      <td>40.851903</td>\n",
       "      <td>-73.936900</td>\n",
       "      <td>3.0</td>\n",
       "      <td>0.0</td>\n",
       "      <td>0.0</td>\n",
       "      <td>0.0</td>\n",
       "      <td>1.0</td>\n",
       "      <td>427.333333</td>\n",
       "    </tr>\n",
       "    <tr>\n",
       "      <th>3</th>\n",
       "      <td>Manhattan</td>\n",
       "      <td>Inwood</td>\n",
       "      <td>40.867684</td>\n",
       "      <td>-73.921210</td>\n",
       "      <td>0.0</td>\n",
       "      <td>0.0</td>\n",
       "      <td>2.0</td>\n",
       "      <td>1.0</td>\n",
       "      <td>0.0</td>\n",
       "      <td>351.666667</td>\n",
       "    </tr>\n",
       "    <tr>\n",
       "      <th>4</th>\n",
       "      <td>Manhattan</td>\n",
       "      <td>Hamilton Heights</td>\n",
       "      <td>40.823604</td>\n",
       "      <td>-73.949688</td>\n",
       "      <td>6.0</td>\n",
       "      <td>0.0</td>\n",
       "      <td>5.0</td>\n",
       "      <td>1.0</td>\n",
       "      <td>1.0</td>\n",
       "      <td>417.000000</td>\n",
       "    </tr>\n",
       "  </tbody>\n",
       "</table>\n",
       "</div>"
      ],
      "text/plain": [
       "     Borough        Neighborhood   Latitude  Longitude   Gym  Vegan  Sport  \\\n",
       "0  Manhattan         Marble Hill  40.876551 -73.910660   2.0    0.0    1.0   \n",
       "1  Manhattan           Chinatown  40.715618 -73.994279  10.0    1.0    5.0   \n",
       "2  Manhattan  Washington Heights  40.851903 -73.936900   3.0    0.0    0.0   \n",
       "3  Manhattan              Inwood  40.867684 -73.921210   0.0    0.0    2.0   \n",
       "4  Manhattan    Hamilton Heights  40.823604 -73.949688   6.0    0.0    5.0   \n",
       "\n",
       "   Nightclub  Hookah    Distance  \n",
       "0        0.0     0.0  426.666667  \n",
       "1        0.0     0.0  437.687500  \n",
       "2        0.0     1.0  427.333333  \n",
       "3        1.0     0.0  351.666667  \n",
       "4        1.0     1.0  417.000000  "
      ]
     },
     "execution_count": 75,
     "metadata": {},
     "output_type": "execute_result"
    }
   ],
   "source": [
    "df_nyc_final_feat = df_nyc_ll_vnum.copy()\n",
    "df_nyc_final_feat = df_nyc_final_feat.merge(df_dist, on = 'Neighborhood', how = 'inner')\n",
    "df_nyc_final_feat = df_nyc_final_feat.drop('Total', axis = 1)\n",
    "df_nyc_final_feat.head()"
   ]
  },
  {
   "cell_type": "markdown",
   "metadata": {},
   "source": [
    "Now let's do the same for neighborhoods in Toronto. The final dataframe is saved in 'df_toronto_final_feat'."
   ]
  },
  {
   "cell_type": "code",
   "execution_count": 76,
   "metadata": {},
   "outputs": [
    {
     "data": {
      "text/html": [
       "<div>\n",
       "<style scoped>\n",
       "    .dataframe tbody tr th:only-of-type {\n",
       "        vertical-align: middle;\n",
       "    }\n",
       "\n",
       "    .dataframe tbody tr th {\n",
       "        vertical-align: top;\n",
       "    }\n",
       "\n",
       "    .dataframe thead th {\n",
       "        text-align: right;\n",
       "    }\n",
       "</style>\n",
       "<table border=\"1\" class=\"dataframe\">\n",
       "  <thead>\n",
       "    <tr style=\"text-align: right;\">\n",
       "      <th></th>\n",
       "      <th>Name</th>\n",
       "      <th>ID</th>\n",
       "      <th>Categories</th>\n",
       "      <th>Distance</th>\n",
       "      <th>Latitude</th>\n",
       "      <th>Longitude</th>\n",
       "      <th>Neighborhood</th>\n",
       "    </tr>\n",
       "  </thead>\n",
       "  <tbody>\n",
       "    <tr>\n",
       "      <th>0</th>\n",
       "      <td>Richmond Gym</td>\n",
       "      <td>4e21b1fe62e1964dbb6981cc</td>\n",
       "      <td>Gym</td>\n",
       "      <td>552</td>\n",
       "      <td>43.653485</td>\n",
       "      <td>-79.367416</td>\n",
       "      <td>Harbourfront, Regent Park</td>\n",
       "    </tr>\n",
       "    <tr>\n",
       "      <th>1</th>\n",
       "      <td>Corktown District Lofts Gym</td>\n",
       "      <td>4ffce4dee4b0f5828e1b8cc5</td>\n",
       "      <td>Gym</td>\n",
       "      <td>254</td>\n",
       "      <td>43.655652</td>\n",
       "      <td>-79.358125</td>\n",
       "      <td>Harbourfront, Regent Park</td>\n",
       "    </tr>\n",
       "    <tr>\n",
       "      <th>2</th>\n",
       "      <td>Gym @ The George</td>\n",
       "      <td>5abba87ef96b2c52184b9605</td>\n",
       "      <td>Gym</td>\n",
       "      <td>259</td>\n",
       "      <td>43.653410</td>\n",
       "      <td>-79.357630</td>\n",
       "      <td>Harbourfront, Regent Park</td>\n",
       "    </tr>\n",
       "    <tr>\n",
       "      <th>3</th>\n",
       "      <td>One32 Gym</td>\n",
       "      <td>554c4f84498ea4ff66cbca5a</td>\n",
       "      <td>Gym</td>\n",
       "      <td>439</td>\n",
       "      <td>43.654763</td>\n",
       "      <td>-79.366045</td>\n",
       "      <td>Harbourfront, Regent Park</td>\n",
       "    </tr>\n",
       "    <tr>\n",
       "      <th>4</th>\n",
       "      <td>Clear Spirit Gym</td>\n",
       "      <td>5242c03711d2a6ea89a19ce3</td>\n",
       "      <td>Gym</td>\n",
       "      <td>488</td>\n",
       "      <td>43.650345</td>\n",
       "      <td>-79.357900</td>\n",
       "      <td>Harbourfront, Regent Park</td>\n",
       "    </tr>\n",
       "  </tbody>\n",
       "</table>\n",
       "</div>"
      ],
      "text/plain": [
       "                          Name                        ID Categories  Distance  \\\n",
       "0                 Richmond Gym  4e21b1fe62e1964dbb6981cc        Gym       552   \n",
       "1  Corktown District Lofts Gym  4ffce4dee4b0f5828e1b8cc5        Gym       254   \n",
       "2             Gym @ The George  5abba87ef96b2c52184b9605        Gym       259   \n",
       "3                    One32 Gym  554c4f84498ea4ff66cbca5a        Gym       439   \n",
       "4             Clear Spirit Gym  5242c03711d2a6ea89a19ce3        Gym       488   \n",
       "\n",
       "    Latitude  Longitude               Neighborhood  \n",
       "0  43.653485 -79.367416  Harbourfront, Regent Park  \n",
       "1  43.655652 -79.358125  Harbourfront, Regent Park  \n",
       "2  43.653410 -79.357630  Harbourfront, Regent Park  \n",
       "3  43.654763 -79.366045  Harbourfront, Regent Park  \n",
       "4  43.650345 -79.357900  Harbourfront, Regent Park  "
      ]
     },
     "execution_count": 76,
     "metadata": {},
     "output_type": "execute_result"
    }
   ],
   "source": [
    "df_feat_dist_toronto = feature_dist('toronto') \n",
    "df_feat_dist_toronto.head()"
   ]
  },
  {
   "cell_type": "code",
   "execution_count": 77,
   "metadata": {},
   "outputs": [
    {
     "data": {
      "text/html": [
       "<div>\n",
       "<style scoped>\n",
       "    .dataframe tbody tr th:only-of-type {\n",
       "        vertical-align: middle;\n",
       "    }\n",
       "\n",
       "    .dataframe tbody tr th {\n",
       "        vertical-align: top;\n",
       "    }\n",
       "\n",
       "    .dataframe thead th {\n",
       "        text-align: right;\n",
       "    }\n",
       "</style>\n",
       "<table border=\"1\" class=\"dataframe\">\n",
       "  <thead>\n",
       "    <tr style=\"text-align: right;\">\n",
       "      <th></th>\n",
       "      <th>Neighborhood</th>\n",
       "      <th>Distance</th>\n",
       "    </tr>\n",
       "  </thead>\n",
       "  <tbody>\n",
       "    <tr>\n",
       "      <th>0</th>\n",
       "      <td>Adelaide, King, Richmond</td>\n",
       "      <td>375.833333</td>\n",
       "    </tr>\n",
       "    <tr>\n",
       "      <th>1</th>\n",
       "      <td>Berczy Park</td>\n",
       "      <td>487.166667</td>\n",
       "    </tr>\n",
       "    <tr>\n",
       "      <th>2</th>\n",
       "      <td>Cabbagetown, St. James Town</td>\n",
       "      <td>219.000000</td>\n",
       "    </tr>\n",
       "    <tr>\n",
       "      <th>3</th>\n",
       "      <td>Central Bay Street</td>\n",
       "      <td>433.500000</td>\n",
       "    </tr>\n",
       "    <tr>\n",
       "      <th>4</th>\n",
       "      <td>Chinatown, Grange Park, Kensington Market</td>\n",
       "      <td>442.000000</td>\n",
       "    </tr>\n",
       "  </tbody>\n",
       "</table>\n",
       "</div>"
      ],
      "text/plain": [
       "                                Neighborhood    Distance\n",
       "0                   Adelaide, King, Richmond  375.833333\n",
       "1                                Berczy Park  487.166667\n",
       "2                Cabbagetown, St. James Town  219.000000\n",
       "3                         Central Bay Street  433.500000\n",
       "4  Chinatown, Grange Park, Kensington Market  442.000000"
      ]
     },
     "execution_count": 77,
     "metadata": {},
     "output_type": "execute_result"
    }
   ],
   "source": [
    "df_dist_t = df_feat_dist_toronto.groupby('Neighborhood').mean()['Distance'].to_frame()\n",
    "df_dist_t.reset_index(inplace = True)\n",
    "df_dist_t.head()"
   ]
  },
  {
   "cell_type": "code",
   "execution_count": 72,
   "metadata": {},
   "outputs": [
    {
     "data": {
      "text/html": [
       "<div>\n",
       "<style scoped>\n",
       "    .dataframe tbody tr th:only-of-type {\n",
       "        vertical-align: middle;\n",
       "    }\n",
       "\n",
       "    .dataframe tbody tr th {\n",
       "        vertical-align: top;\n",
       "    }\n",
       "\n",
       "    .dataframe thead th {\n",
       "        text-align: right;\n",
       "    }\n",
       "</style>\n",
       "<table border=\"1\" class=\"dataframe\">\n",
       "  <thead>\n",
       "    <tr style=\"text-align: right;\">\n",
       "      <th></th>\n",
       "      <th>Borough</th>\n",
       "      <th>Neighborhood</th>\n",
       "      <th>Latitude</th>\n",
       "      <th>Longitude</th>\n",
       "    </tr>\n",
       "  </thead>\n",
       "  <tbody>\n",
       "    <tr>\n",
       "      <th>0</th>\n",
       "      <td>Downtown Toronto</td>\n",
       "      <td>Harbourfront, Regent Park</td>\n",
       "      <td>43.654260</td>\n",
       "      <td>-79.360636</td>\n",
       "    </tr>\n",
       "    <tr>\n",
       "      <th>1</th>\n",
       "      <td>Downtown Toronto</td>\n",
       "      <td>Ryerson, Garden District</td>\n",
       "      <td>43.657162</td>\n",
       "      <td>-79.378937</td>\n",
       "    </tr>\n",
       "    <tr>\n",
       "      <th>2</th>\n",
       "      <td>Downtown Toronto</td>\n",
       "      <td>St. James Town</td>\n",
       "      <td>43.651494</td>\n",
       "      <td>-79.375418</td>\n",
       "    </tr>\n",
       "    <tr>\n",
       "      <th>3</th>\n",
       "      <td>Downtown Toronto</td>\n",
       "      <td>Berczy Park</td>\n",
       "      <td>43.644771</td>\n",
       "      <td>-79.373306</td>\n",
       "    </tr>\n",
       "    <tr>\n",
       "      <th>4</th>\n",
       "      <td>Downtown Toronto</td>\n",
       "      <td>Central Bay Street</td>\n",
       "      <td>43.657952</td>\n",
       "      <td>-79.387383</td>\n",
       "    </tr>\n",
       "  </tbody>\n",
       "</table>\n",
       "</div>"
      ],
      "text/plain": [
       "            Borough               Neighborhood   Latitude  Longitude\n",
       "0  Downtown Toronto  Harbourfront, Regent Park  43.654260 -79.360636\n",
       "1  Downtown Toronto   Ryerson, Garden District  43.657162 -79.378937\n",
       "2  Downtown Toronto             St. James Town  43.651494 -79.375418\n",
       "3  Downtown Toronto                Berczy Park  43.644771 -79.373306\n",
       "4  Downtown Toronto         Central Bay Street  43.657952 -79.387383"
      ]
     },
     "execution_count": 72,
     "metadata": {},
     "output_type": "execute_result"
    }
   ],
   "source": [
    "df_toronto_main.head()"
   ]
  },
  {
   "cell_type": "code",
   "execution_count": 78,
   "metadata": {},
   "outputs": [
    {
     "data": {
      "text/html": [
       "<div>\n",
       "<style scoped>\n",
       "    .dataframe tbody tr th:only-of-type {\n",
       "        vertical-align: middle;\n",
       "    }\n",
       "\n",
       "    .dataframe tbody tr th {\n",
       "        vertical-align: top;\n",
       "    }\n",
       "\n",
       "    .dataframe thead th {\n",
       "        text-align: right;\n",
       "    }\n",
       "</style>\n",
       "<table border=\"1\" class=\"dataframe\">\n",
       "  <thead>\n",
       "    <tr style=\"text-align: right;\">\n",
       "      <th></th>\n",
       "      <th>Borough</th>\n",
       "      <th>Neighborhood</th>\n",
       "      <th>Latitude</th>\n",
       "      <th>Longitude</th>\n",
       "      <th>Gym</th>\n",
       "      <th>Vegan</th>\n",
       "      <th>Sport</th>\n",
       "      <th>Nightclub</th>\n",
       "      <th>Hookah</th>\n",
       "      <th>Distance</th>\n",
       "    </tr>\n",
       "  </thead>\n",
       "  <tbody>\n",
       "    <tr>\n",
       "      <th>0</th>\n",
       "      <td>Downtown Toronto</td>\n",
       "      <td>Harbourfront, Regent Park</td>\n",
       "      <td>43.654260</td>\n",
       "      <td>-79.360636</td>\n",
       "      <td>5.0</td>\n",
       "      <td>0.0</td>\n",
       "      <td>3.0</td>\n",
       "      <td>0.0</td>\n",
       "      <td>0.0</td>\n",
       "      <td>356.250000</td>\n",
       "    </tr>\n",
       "    <tr>\n",
       "      <th>1</th>\n",
       "      <td>Downtown Toronto</td>\n",
       "      <td>Ryerson, Garden District</td>\n",
       "      <td>43.657162</td>\n",
       "      <td>-79.378937</td>\n",
       "      <td>25.0</td>\n",
       "      <td>0.0</td>\n",
       "      <td>8.0</td>\n",
       "      <td>3.0</td>\n",
       "      <td>0.0</td>\n",
       "      <td>416.027778</td>\n",
       "    </tr>\n",
       "    <tr>\n",
       "      <th>2</th>\n",
       "      <td>Downtown Toronto</td>\n",
       "      <td>St. James Town</td>\n",
       "      <td>43.651494</td>\n",
       "      <td>-79.375418</td>\n",
       "      <td>14.0</td>\n",
       "      <td>0.0</td>\n",
       "      <td>6.0</td>\n",
       "      <td>0.0</td>\n",
       "      <td>0.0</td>\n",
       "      <td>348.950000</td>\n",
       "    </tr>\n",
       "    <tr>\n",
       "      <th>3</th>\n",
       "      <td>Downtown Toronto</td>\n",
       "      <td>Berczy Park</td>\n",
       "      <td>43.644771</td>\n",
       "      <td>-79.373306</td>\n",
       "      <td>6.0</td>\n",
       "      <td>0.0</td>\n",
       "      <td>6.0</td>\n",
       "      <td>0.0</td>\n",
       "      <td>0.0</td>\n",
       "      <td>487.166667</td>\n",
       "    </tr>\n",
       "    <tr>\n",
       "      <th>4</th>\n",
       "      <td>Downtown Toronto</td>\n",
       "      <td>Central Bay Street</td>\n",
       "      <td>43.657952</td>\n",
       "      <td>-79.387383</td>\n",
       "      <td>4.0</td>\n",
       "      <td>0.0</td>\n",
       "      <td>0.0</td>\n",
       "      <td>0.0</td>\n",
       "      <td>1.0</td>\n",
       "      <td>433.500000</td>\n",
       "    </tr>\n",
       "  </tbody>\n",
       "</table>\n",
       "</div>"
      ],
      "text/plain": [
       "            Borough               Neighborhood   Latitude  Longitude   Gym  \\\n",
       "0  Downtown Toronto  Harbourfront, Regent Park  43.654260 -79.360636   5.0   \n",
       "1  Downtown Toronto   Ryerson, Garden District  43.657162 -79.378937  25.0   \n",
       "2  Downtown Toronto             St. James Town  43.651494 -79.375418  14.0   \n",
       "3  Downtown Toronto                Berczy Park  43.644771 -79.373306   6.0   \n",
       "4  Downtown Toronto         Central Bay Street  43.657952 -79.387383   4.0   \n",
       "\n",
       "   Vegan  Sport  Nightclub  Hookah    Distance  \n",
       "0    0.0    3.0        0.0     0.0  356.250000  \n",
       "1    0.0    8.0        3.0     0.0  416.027778  \n",
       "2    0.0    6.0        0.0     0.0  348.950000  \n",
       "3    0.0    6.0        0.0     0.0  487.166667  \n",
       "4    0.0    0.0        0.0     1.0  433.500000  "
      ]
     },
     "execution_count": 78,
     "metadata": {},
     "output_type": "execute_result"
    }
   ],
   "source": [
    "df_toronto_final_feat = df_toronto_sort_all.merge(df_dist_t, on = 'Neighborhood', how = 'inner')\n",
    "df_toronto_final_feat = df_toronto_main.merge(df_toronto_final_feat, on = 'Neighborhood', how = 'inner')\n",
    "df_toronto_final_feat = df_toronto_final_feat.drop('Total', axis = 1)\n",
    "df_toronto_final_feat.head()"
   ]
  },
  {
   "cell_type": "markdown",
   "metadata": {},
   "source": [
    "### 2. Setup machine learning model"
   ]
  },
  {
   "cell_type": "markdown",
   "metadata": {},
   "source": [
    "#### From the exploratory data analysis section, we find that both cities have relevant venues that are indicative of healthy lifestyles and postive attitudes towards cannabis related health products. In this section, we want to group all neighborhoods into several clusters in order to further differentiate optimum locations for our potential business. "
   ]
  },
  {
   "cell_type": "markdown",
   "metadata": {},
   "source": [
    "First, we set up a K-means clustering method.\n",
    "\n",
    "Import relevant libraries:"
   ]
  },
  {
   "cell_type": "code",
   "execution_count": 79,
   "metadata": {},
   "outputs": [],
   "source": [
    "from sklearn.cluster import KMeans  # KMeans model\n",
    "from sklearn.preprocessing import StandardScaler    # Data normalization/standarization "
   ]
  },
  {
   "cell_type": "markdown",
   "metadata": {},
   "source": [
    "Here, we define a function to do K-Means clustering:"
   ]
  },
  {
   "cell_type": "code",
   "execution_count": 80,
   "metadata": {},
   "outputs": [],
   "source": [
    "# define a function to perform K-Means clustering \n",
    "# parameters: dataframe: df; index of the starting colum: col_start \n",
    "# return: labels; inertia: Sum of squared distances of samples to their closest cluster center \n",
    "\n",
    "def kmeans_cluster(df, col_start, clus_num, num_init):\n",
    "    X = df.values[:,col_start:]\n",
    "    X = np.nan_to_num(X)  # notice X should be ndarray type, fill NaN with zeros\n",
    "    Clus_dataSet = StandardScaler().fit_transform(X) # data standarization\n",
    "\n",
    "    # Use 'k-means++' as the initial guess of centroids, \n",
    "    # repeat the whole clustering process 12 times\n",
    "    k_means = KMeans(init = \"k-means++\", n_clusters = clus_num, n_init = num_init)\n",
    "    k_means.fit(Clus_dataSet)\n",
    "    labels = k_means.labels_\n",
    "    inertia = k_means.inertia_\n",
    "    \n",
    "    return labels, inertia"
   ]
  },
  {
   "cell_type": "markdown",
   "metadata": {},
   "source": [
    "Scan the number of clusters to find the optimum K:"
   ]
  },
  {
   "cell_type": "code",
   "execution_count": 81,
   "metadata": {},
   "outputs": [
    {
     "name": "stderr",
     "output_type": "stream",
     "text": [
      "/home/jupyterlab/conda/lib/python3.6/site-packages/sklearn/utils/validation.py:595: DataConversionWarning: Data with input dtype object was converted to float64 by StandardScaler.\n",
      "  warnings.warn(msg, DataConversionWarning)\n",
      "/home/jupyterlab/conda/lib/python3.6/site-packages/sklearn/utils/validation.py:595: DataConversionWarning: Data with input dtype object was converted to float64 by StandardScaler.\n",
      "  warnings.warn(msg, DataConversionWarning)\n",
      "/home/jupyterlab/conda/lib/python3.6/site-packages/sklearn/utils/validation.py:595: DataConversionWarning: Data with input dtype object was converted to float64 by StandardScaler.\n",
      "  warnings.warn(msg, DataConversionWarning)\n",
      "/home/jupyterlab/conda/lib/python3.6/site-packages/sklearn/utils/validation.py:595: DataConversionWarning: Data with input dtype object was converted to float64 by StandardScaler.\n",
      "  warnings.warn(msg, DataConversionWarning)\n",
      "/home/jupyterlab/conda/lib/python3.6/site-packages/sklearn/utils/validation.py:595: DataConversionWarning: Data with input dtype object was converted to float64 by StandardScaler.\n",
      "  warnings.warn(msg, DataConversionWarning)\n",
      "/home/jupyterlab/conda/lib/python3.6/site-packages/sklearn/utils/validation.py:595: DataConversionWarning: Data with input dtype object was converted to float64 by StandardScaler.\n",
      "  warnings.warn(msg, DataConversionWarning)\n",
      "/home/jupyterlab/conda/lib/python3.6/site-packages/sklearn/utils/validation.py:595: DataConversionWarning: Data with input dtype object was converted to float64 by StandardScaler.\n",
      "  warnings.warn(msg, DataConversionWarning)\n",
      "/home/jupyterlab/conda/lib/python3.6/site-packages/sklearn/utils/validation.py:595: DataConversionWarning: Data with input dtype object was converted to float64 by StandardScaler.\n",
      "  warnings.warn(msg, DataConversionWarning)\n",
      "/home/jupyterlab/conda/lib/python3.6/site-packages/sklearn/utils/validation.py:595: DataConversionWarning: Data with input dtype object was converted to float64 by StandardScaler.\n",
      "  warnings.warn(msg, DataConversionWarning)\n",
      "/home/jupyterlab/conda/lib/python3.6/site-packages/sklearn/utils/validation.py:595: DataConversionWarning: Data with input dtype object was converted to float64 by StandardScaler.\n",
      "  warnings.warn(msg, DataConversionWarning)\n",
      "/home/jupyterlab/conda/lib/python3.6/site-packages/sklearn/utils/validation.py:595: DataConversionWarning: Data with input dtype object was converted to float64 by StandardScaler.\n",
      "  warnings.warn(msg, DataConversionWarning)\n",
      "/home/jupyterlab/conda/lib/python3.6/site-packages/sklearn/utils/validation.py:595: DataConversionWarning: Data with input dtype object was converted to float64 by StandardScaler.\n",
      "  warnings.warn(msg, DataConversionWarning)\n",
      "/home/jupyterlab/conda/lib/python3.6/site-packages/sklearn/utils/validation.py:595: DataConversionWarning: Data with input dtype object was converted to float64 by StandardScaler.\n",
      "  warnings.warn(msg, DataConversionWarning)\n",
      "/home/jupyterlab/conda/lib/python3.6/site-packages/sklearn/utils/validation.py:595: DataConversionWarning: Data with input dtype object was converted to float64 by StandardScaler.\n",
      "  warnings.warn(msg, DataConversionWarning)\n",
      "/home/jupyterlab/conda/lib/python3.6/site-packages/sklearn/utils/validation.py:595: DataConversionWarning: Data with input dtype object was converted to float64 by StandardScaler.\n",
      "  warnings.warn(msg, DataConversionWarning)\n",
      "/home/jupyterlab/conda/lib/python3.6/site-packages/sklearn/utils/validation.py:595: DataConversionWarning: Data with input dtype object was converted to float64 by StandardScaler.\n",
      "  warnings.warn(msg, DataConversionWarning)\n"
     ]
    }
   ],
   "source": [
    "# Inertia as indicator of clustering accuracy\n",
    "inert = []\n",
    "k_range = range(1, 9)  # k from 1 to 8\n",
    "\n",
    "# loop of k numbers\n",
    "for clus_num in k_range:\n",
    "    lab, iner = kmeans_cluster(df_nyc_final_feat, 4, clus_num, 12)\n",
    "    inert.append(iner)"
   ]
  },
  {
   "cell_type": "code",
   "execution_count": 82,
   "metadata": {},
   "outputs": [
    {
     "data": {
      "text/html": [
       "<div>\n",
       "<style scoped>\n",
       "    .dataframe tbody tr th:only-of-type {\n",
       "        vertical-align: middle;\n",
       "    }\n",
       "\n",
       "    .dataframe tbody tr th {\n",
       "        vertical-align: top;\n",
       "    }\n",
       "\n",
       "    .dataframe thead th {\n",
       "        text-align: right;\n",
       "    }\n",
       "</style>\n",
       "<table border=\"1\" class=\"dataframe\">\n",
       "  <thead>\n",
       "    <tr style=\"text-align: right;\">\n",
       "      <th></th>\n",
       "      <th>K clusters</th>\n",
       "      <th>Inertia</th>\n",
       "    </tr>\n",
       "  </thead>\n",
       "  <tbody>\n",
       "    <tr>\n",
       "      <th>0</th>\n",
       "      <td>1</td>\n",
       "      <td>240.000000</td>\n",
       "    </tr>\n",
       "    <tr>\n",
       "      <th>1</th>\n",
       "      <td>2</td>\n",
       "      <td>181.239850</td>\n",
       "    </tr>\n",
       "    <tr>\n",
       "      <th>2</th>\n",
       "      <td>3</td>\n",
       "      <td>145.416918</td>\n",
       "    </tr>\n",
       "    <tr>\n",
       "      <th>3</th>\n",
       "      <td>4</td>\n",
       "      <td>118.934319</td>\n",
       "    </tr>\n",
       "    <tr>\n",
       "      <th>4</th>\n",
       "      <td>5</td>\n",
       "      <td>94.466321</td>\n",
       "    </tr>\n",
       "    <tr>\n",
       "      <th>5</th>\n",
       "      <td>6</td>\n",
       "      <td>69.969284</td>\n",
       "    </tr>\n",
       "    <tr>\n",
       "      <th>6</th>\n",
       "      <td>7</td>\n",
       "      <td>61.137270</td>\n",
       "    </tr>\n",
       "    <tr>\n",
       "      <th>7</th>\n",
       "      <td>8</td>\n",
       "      <td>48.301604</td>\n",
       "    </tr>\n",
       "  </tbody>\n",
       "</table>\n",
       "</div>"
      ],
      "text/plain": [
       "   K clusters     Inertia\n",
       "0           1  240.000000\n",
       "1           2  181.239850\n",
       "2           3  145.416918\n",
       "3           4  118.934319\n",
       "4           5   94.466321\n",
       "5           6   69.969284\n",
       "6           7   61.137270\n",
       "7           8   48.301604"
      ]
     },
     "execution_count": 82,
     "metadata": {},
     "output_type": "execute_result"
    }
   ],
   "source": [
    "# produce a datafram of k and inertia for plotting\n",
    "df_inertia = pd.DataFrame({'K clusters':k_range, 'Inertia':inert})\n",
    "df_inertia"
   ]
  },
  {
   "cell_type": "markdown",
   "metadata": {},
   "source": [
    "Plot the Inertia vs. K relationship"
   ]
  },
  {
   "cell_type": "code",
   "execution_count": 83,
   "metadata": {},
   "outputs": [],
   "source": [
    "def plot_inertia_k(df):\n",
    "    figsize = (6,4)\n",
    "    tfsize = 20\n",
    "    lfsize = 15\n",
    "\n",
    "    sns.set()\n",
    "    plt.figure(figsize = figsize)\n",
    "    sns.lineplot(x = 'K clusters', y = 'Inertia', data = df)\n",
    "    plt.title('Inertia vs. K', fontsize = tfsize)\n",
    "    plt.xlabel('K clusters', fontsize = lfsize)\n",
    "    plt.ylabel('Inertia', fontsize = lfsize)\n",
    "    plt.xticks(fontsize = lfsize)\n",
    "    plt.yticks(fontsize = lfsize)\n",
    "    plt.show()"
   ]
  },
  {
   "cell_type": "code",
   "execution_count": 151,
   "metadata": {},
   "outputs": [
    {
     "data": {
      "image/png": "[encoded data removed]",
      "text/plain": [
       "<Figure size 432x288 with 1 Axes>"
      ]
     },
     "metadata": {},
     "output_type": "display_data"
    }
   ],
   "source": [
    "plot_inertia_k(df_inertia)"
   ]
  },
  {
   "cell_type": "markdown",
   "metadata": {},
   "source": [
    "From the Inertia curve, we set K=6, and we rerun the KMeans model to get the labels of each neighborhood."
   ]
  },
  {
   "cell_type": "code",
   "execution_count": 84,
   "metadata": {},
   "outputs": [
    {
     "name": "stderr",
     "output_type": "stream",
     "text": [
      "/home/jupyterlab/conda/lib/python3.6/site-packages/sklearn/utils/validation.py:595: DataConversionWarning: Data with input dtype object was converted to float64 by StandardScaler.\n",
      "  warnings.warn(msg, DataConversionWarning)\n",
      "/home/jupyterlab/conda/lib/python3.6/site-packages/sklearn/utils/validation.py:595: DataConversionWarning: Data with input dtype object was converted to float64 by StandardScaler.\n",
      "  warnings.warn(msg, DataConversionWarning)\n"
     ]
    },
    {
     "data": {
      "text/html": [
       "<div>\n",
       "<style scoped>\n",
       "    .dataframe tbody tr th:only-of-type {\n",
       "        vertical-align: middle;\n",
       "    }\n",
       "\n",
       "    .dataframe tbody tr th {\n",
       "        vertical-align: top;\n",
       "    }\n",
       "\n",
       "    .dataframe thead th {\n",
       "        text-align: right;\n",
       "    }\n",
       "</style>\n",
       "<table border=\"1\" class=\"dataframe\">\n",
       "  <thead>\n",
       "    <tr style=\"text-align: right;\">\n",
       "      <th></th>\n",
       "      <th>Borough</th>\n",
       "      <th>Neighborhood</th>\n",
       "      <th>Latitude</th>\n",
       "      <th>Longitude</th>\n",
       "      <th>Gym</th>\n",
       "      <th>Vegan</th>\n",
       "      <th>Sport</th>\n",
       "      <th>Nightclub</th>\n",
       "      <th>Hookah</th>\n",
       "      <th>Distance</th>\n",
       "      <th>Kmeans_label</th>\n",
       "    </tr>\n",
       "  </thead>\n",
       "  <tbody>\n",
       "    <tr>\n",
       "      <th>0</th>\n",
       "      <td>Manhattan</td>\n",
       "      <td>Marble Hill</td>\n",
       "      <td>40.876551</td>\n",
       "      <td>-73.910660</td>\n",
       "      <td>2.0</td>\n",
       "      <td>0.0</td>\n",
       "      <td>1.0</td>\n",
       "      <td>0.0</td>\n",
       "      <td>0.0</td>\n",
       "      <td>426.666667</td>\n",
       "      <td>0</td>\n",
       "    </tr>\n",
       "    <tr>\n",
       "      <th>1</th>\n",
       "      <td>Manhattan</td>\n",
       "      <td>Chinatown</td>\n",
       "      <td>40.715618</td>\n",
       "      <td>-73.994279</td>\n",
       "      <td>10.0</td>\n",
       "      <td>1.0</td>\n",
       "      <td>5.0</td>\n",
       "      <td>0.0</td>\n",
       "      <td>0.0</td>\n",
       "      <td>437.687500</td>\n",
       "      <td>0</td>\n",
       "    </tr>\n",
       "    <tr>\n",
       "      <th>2</th>\n",
       "      <td>Manhattan</td>\n",
       "      <td>Washington Heights</td>\n",
       "      <td>40.851903</td>\n",
       "      <td>-73.936900</td>\n",
       "      <td>3.0</td>\n",
       "      <td>0.0</td>\n",
       "      <td>0.0</td>\n",
       "      <td>0.0</td>\n",
       "      <td>1.0</td>\n",
       "      <td>427.333333</td>\n",
       "      <td>0</td>\n",
       "    </tr>\n",
       "    <tr>\n",
       "      <th>3</th>\n",
       "      <td>Manhattan</td>\n",
       "      <td>Inwood</td>\n",
       "      <td>40.867684</td>\n",
       "      <td>-73.921210</td>\n",
       "      <td>0.0</td>\n",
       "      <td>0.0</td>\n",
       "      <td>2.0</td>\n",
       "      <td>1.0</td>\n",
       "      <td>0.0</td>\n",
       "      <td>351.666667</td>\n",
       "      <td>0</td>\n",
       "    </tr>\n",
       "    <tr>\n",
       "      <th>4</th>\n",
       "      <td>Manhattan</td>\n",
       "      <td>Hamilton Heights</td>\n",
       "      <td>40.823604</td>\n",
       "      <td>-73.949688</td>\n",
       "      <td>6.0</td>\n",
       "      <td>0.0</td>\n",
       "      <td>5.0</td>\n",
       "      <td>1.0</td>\n",
       "      <td>1.0</td>\n",
       "      <td>417.000000</td>\n",
       "      <td>0</td>\n",
       "    </tr>\n",
       "  </tbody>\n",
       "</table>\n",
       "</div>"
      ],
      "text/plain": [
       "     Borough        Neighborhood   Latitude  Longitude   Gym  Vegan  Sport  \\\n",
       "0  Manhattan         Marble Hill  40.876551 -73.910660   2.0    0.0    1.0   \n",
       "1  Manhattan           Chinatown  40.715618 -73.994279  10.0    1.0    5.0   \n",
       "2  Manhattan  Washington Heights  40.851903 -73.936900   3.0    0.0    0.0   \n",
       "3  Manhattan              Inwood  40.867684 -73.921210   0.0    0.0    2.0   \n",
       "4  Manhattan    Hamilton Heights  40.823604 -73.949688   6.0    0.0    5.0   \n",
       "\n",
       "   Nightclub  Hookah    Distance  Kmeans_label  \n",
       "0        0.0     0.0  426.666667             0  \n",
       "1        0.0     0.0  437.687500             0  \n",
       "2        0.0     1.0  427.333333             0  \n",
       "3        1.0     0.0  351.666667             0  \n",
       "4        1.0     1.0  417.000000             0  "
      ]
     },
     "execution_count": 84,
     "metadata": {},
     "output_type": "execute_result"
    }
   ],
   "source": [
    "K_num = 6\n",
    "labl, inert = kmeans_cluster(df_nyc_final_feat, 4, K_num, 12)\n",
    "df_nyc_kmeans = df_nyc_final_feat.copy()\n",
    "df_nyc_kmeans['Kmeans_label'] = labl\n",
    "df_nyc_kmeans.head()"
   ]
  },
  {
   "cell_type": "markdown",
   "metadata": {},
   "source": [
    "**Finally, let's repeat the process for Downtown Toronto.**"
   ]
  },
  {
   "cell_type": "markdown",
   "metadata": {},
   "source": [
    "Scan K to find the optimum cluster number:"
   ]
  },
  {
   "cell_type": "code",
   "execution_count": 91,
   "metadata": {},
   "outputs": [
    {
     "data": {
      "text/html": [
       "<div>\n",
       "<style scoped>\n",
       "    .dataframe tbody tr th:only-of-type {\n",
       "        vertical-align: middle;\n",
       "    }\n",
       "\n",
       "    .dataframe tbody tr th {\n",
       "        vertical-align: top;\n",
       "    }\n",
       "\n",
       "    .dataframe thead th {\n",
       "        text-align: right;\n",
       "    }\n",
       "</style>\n",
       "<table border=\"1\" class=\"dataframe\">\n",
       "  <thead>\n",
       "    <tr style=\"text-align: right;\">\n",
       "      <th></th>\n",
       "      <th>Borough</th>\n",
       "      <th>Neighborhood</th>\n",
       "      <th>Latitude</th>\n",
       "      <th>Longitude</th>\n",
       "      <th>Gym</th>\n",
       "      <th>Vegan</th>\n",
       "      <th>Sport</th>\n",
       "      <th>Nightclub</th>\n",
       "      <th>Hookah</th>\n",
       "      <th>Distance</th>\n",
       "    </tr>\n",
       "  </thead>\n",
       "  <tbody>\n",
       "    <tr>\n",
       "      <th>0</th>\n",
       "      <td>Downtown Toronto</td>\n",
       "      <td>Harbourfront, Regent Park</td>\n",
       "      <td>43.654260</td>\n",
       "      <td>-79.360636</td>\n",
       "      <td>5.0</td>\n",
       "      <td>0.0</td>\n",
       "      <td>3.0</td>\n",
       "      <td>0.0</td>\n",
       "      <td>0.0</td>\n",
       "      <td>356.250000</td>\n",
       "    </tr>\n",
       "    <tr>\n",
       "      <th>1</th>\n",
       "      <td>Downtown Toronto</td>\n",
       "      <td>Ryerson, Garden District</td>\n",
       "      <td>43.657162</td>\n",
       "      <td>-79.378937</td>\n",
       "      <td>25.0</td>\n",
       "      <td>0.0</td>\n",
       "      <td>8.0</td>\n",
       "      <td>3.0</td>\n",
       "      <td>0.0</td>\n",
       "      <td>416.027778</td>\n",
       "    </tr>\n",
       "    <tr>\n",
       "      <th>2</th>\n",
       "      <td>Downtown Toronto</td>\n",
       "      <td>St. James Town</td>\n",
       "      <td>43.651494</td>\n",
       "      <td>-79.375418</td>\n",
       "      <td>14.0</td>\n",
       "      <td>0.0</td>\n",
       "      <td>6.0</td>\n",
       "      <td>0.0</td>\n",
       "      <td>0.0</td>\n",
       "      <td>348.950000</td>\n",
       "    </tr>\n",
       "    <tr>\n",
       "      <th>3</th>\n",
       "      <td>Downtown Toronto</td>\n",
       "      <td>Berczy Park</td>\n",
       "      <td>43.644771</td>\n",
       "      <td>-79.373306</td>\n",
       "      <td>6.0</td>\n",
       "      <td>0.0</td>\n",
       "      <td>6.0</td>\n",
       "      <td>0.0</td>\n",
       "      <td>0.0</td>\n",
       "      <td>487.166667</td>\n",
       "    </tr>\n",
       "    <tr>\n",
       "      <th>4</th>\n",
       "      <td>Downtown Toronto</td>\n",
       "      <td>Central Bay Street</td>\n",
       "      <td>43.657952</td>\n",
       "      <td>-79.387383</td>\n",
       "      <td>4.0</td>\n",
       "      <td>0.0</td>\n",
       "      <td>0.0</td>\n",
       "      <td>0.0</td>\n",
       "      <td>1.0</td>\n",
       "      <td>433.500000</td>\n",
       "    </tr>\n",
       "  </tbody>\n",
       "</table>\n",
       "</div>"
      ],
      "text/plain": [
       "            Borough               Neighborhood   Latitude  Longitude   Gym  \\\n",
       "0  Downtown Toronto  Harbourfront, Regent Park  43.654260 -79.360636   5.0   \n",
       "1  Downtown Toronto   Ryerson, Garden District  43.657162 -79.378937  25.0   \n",
       "2  Downtown Toronto             St. James Town  43.651494 -79.375418  14.0   \n",
       "3  Downtown Toronto                Berczy Park  43.644771 -79.373306   6.0   \n",
       "4  Downtown Toronto         Central Bay Street  43.657952 -79.387383   4.0   \n",
       "\n",
       "   Vegan  Sport  Nightclub  Hookah    Distance  \n",
       "0    0.0    3.0        0.0     0.0  356.250000  \n",
       "1    0.0    8.0        3.0     0.0  416.027778  \n",
       "2    0.0    6.0        0.0     0.0  348.950000  \n",
       "3    0.0    6.0        0.0     0.0  487.166667  \n",
       "4    0.0    0.0        0.0     1.0  433.500000  "
      ]
     },
     "execution_count": 91,
     "metadata": {},
     "output_type": "execute_result"
    }
   ],
   "source": [
    "df_toronto_final_feat.head()"
   ]
  },
  {
   "cell_type": "code",
   "execution_count": 90,
   "metadata": {},
   "outputs": [
    {
     "name": "stderr",
     "output_type": "stream",
     "text": [
      "/home/jupyterlab/conda/lib/python3.6/site-packages/sklearn/utils/validation.py:595: DataConversionWarning: Data with input dtype object was converted to float64 by StandardScaler.\n",
      "  warnings.warn(msg, DataConversionWarning)\n",
      "/home/jupyterlab/conda/lib/python3.6/site-packages/sklearn/utils/validation.py:595: DataConversionWarning: Data with input dtype object was converted to float64 by StandardScaler.\n",
      "  warnings.warn(msg, DataConversionWarning)\n",
      "/home/jupyterlab/conda/lib/python3.6/site-packages/sklearn/utils/validation.py:595: DataConversionWarning: Data with input dtype object was converted to float64 by StandardScaler.\n",
      "  warnings.warn(msg, DataConversionWarning)\n",
      "/home/jupyterlab/conda/lib/python3.6/site-packages/sklearn/utils/validation.py:595: DataConversionWarning: Data with input dtype object was converted to float64 by StandardScaler.\n",
      "  warnings.warn(msg, DataConversionWarning)\n",
      "/home/jupyterlab/conda/lib/python3.6/site-packages/sklearn/utils/validation.py:595: DataConversionWarning: Data with input dtype object was converted to float64 by StandardScaler.\n",
      "  warnings.warn(msg, DataConversionWarning)\n",
      "/home/jupyterlab/conda/lib/python3.6/site-packages/sklearn/utils/validation.py:595: DataConversionWarning: Data with input dtype object was converted to float64 by StandardScaler.\n",
      "  warnings.warn(msg, DataConversionWarning)\n",
      "/home/jupyterlab/conda/lib/python3.6/site-packages/sklearn/utils/validation.py:595: DataConversionWarning: Data with input dtype object was converted to float64 by StandardScaler.\n",
      "  warnings.warn(msg, DataConversionWarning)\n",
      "/home/jupyterlab/conda/lib/python3.6/site-packages/sklearn/utils/validation.py:595: DataConversionWarning: Data with input dtype object was converted to float64 by StandardScaler.\n",
      "  warnings.warn(msg, DataConversionWarning)\n",
      "/home/jupyterlab/conda/lib/python3.6/site-packages/sklearn/utils/validation.py:595: DataConversionWarning: Data with input dtype object was converted to float64 by StandardScaler.\n",
      "  warnings.warn(msg, DataConversionWarning)\n",
      "/home/jupyterlab/conda/lib/python3.6/site-packages/sklearn/utils/validation.py:595: DataConversionWarning: Data with input dtype object was converted to float64 by StandardScaler.\n",
      "  warnings.warn(msg, DataConversionWarning)\n",
      "/home/jupyterlab/conda/lib/python3.6/site-packages/sklearn/utils/validation.py:595: DataConversionWarning: Data with input dtype object was converted to float64 by StandardScaler.\n",
      "  warnings.warn(msg, DataConversionWarning)\n",
      "/home/jupyterlab/conda/lib/python3.6/site-packages/sklearn/utils/validation.py:595: DataConversionWarning: Data with input dtype object was converted to float64 by StandardScaler.\n",
      "  warnings.warn(msg, DataConversionWarning)\n",
      "/home/jupyterlab/conda/lib/python3.6/site-packages/sklearn/utils/validation.py:595: DataConversionWarning: Data with input dtype object was converted to float64 by StandardScaler.\n",
      "  warnings.warn(msg, DataConversionWarning)\n",
      "/home/jupyterlab/conda/lib/python3.6/site-packages/sklearn/utils/validation.py:595: DataConversionWarning: Data with input dtype object was converted to float64 by StandardScaler.\n",
      "  warnings.warn(msg, DataConversionWarning)\n",
      "/home/jupyterlab/conda/lib/python3.6/site-packages/sklearn/utils/validation.py:595: DataConversionWarning: Data with input dtype object was converted to float64 by StandardScaler.\n",
      "  warnings.warn(msg, DataConversionWarning)\n",
      "/home/jupyterlab/conda/lib/python3.6/site-packages/sklearn/utils/validation.py:595: DataConversionWarning: Data with input dtype object was converted to float64 by StandardScaler.\n",
      "  warnings.warn(msg, DataConversionWarning)\n"
     ]
    }
   ],
   "source": [
    "# Inertia as indicator of clustering accuracy\n",
    "inert_t = []\n",
    "k_range = range(1, 9)  # k from 1 to 8\n",
    "\n",
    "# loop of k numbers\n",
    "for clus_num in k_range:\n",
    "    lab, iner = kmeans_cluster(df_toronto_final_feat, 4, clus_num, 12)\n",
    "    inert_t.append(iner)"
   ]
  },
  {
   "cell_type": "markdown",
   "metadata": {},
   "source": [
    "Then, plot the relationship between Inertia and K:"
   ]
  },
  {
   "cell_type": "code",
   "execution_count": 86,
   "metadata": {},
   "outputs": [
    {
     "data": {
      "text/html": [
       "<div>\n",
       "<style scoped>\n",
       "    .dataframe tbody tr th:only-of-type {\n",
       "        vertical-align: middle;\n",
       "    }\n",
       "\n",
       "    .dataframe tbody tr th {\n",
       "        vertical-align: top;\n",
       "    }\n",
       "\n",
       "    .dataframe thead th {\n",
       "        text-align: right;\n",
       "    }\n",
       "</style>\n",
       "<table border=\"1\" class=\"dataframe\">\n",
       "  <thead>\n",
       "    <tr style=\"text-align: right;\">\n",
       "      <th></th>\n",
       "      <th>K clusters</th>\n",
       "      <th>Inertia</th>\n",
       "    </tr>\n",
       "  </thead>\n",
       "  <tbody>\n",
       "    <tr>\n",
       "      <th>0</th>\n",
       "      <td>1</td>\n",
       "      <td>66.000000</td>\n",
       "    </tr>\n",
       "    <tr>\n",
       "      <th>1</th>\n",
       "      <td>2</td>\n",
       "      <td>47.268623</td>\n",
       "    </tr>\n",
       "    <tr>\n",
       "      <th>2</th>\n",
       "      <td>3</td>\n",
       "      <td>33.829979</td>\n",
       "    </tr>\n",
       "    <tr>\n",
       "      <th>3</th>\n",
       "      <td>4</td>\n",
       "      <td>20.885678</td>\n",
       "    </tr>\n",
       "    <tr>\n",
       "      <th>4</th>\n",
       "      <td>5</td>\n",
       "      <td>11.130512</td>\n",
       "    </tr>\n",
       "    <tr>\n",
       "      <th>5</th>\n",
       "      <td>6</td>\n",
       "      <td>6.677295</td>\n",
       "    </tr>\n",
       "    <tr>\n",
       "      <th>6</th>\n",
       "      <td>7</td>\n",
       "      <td>4.487208</td>\n",
       "    </tr>\n",
       "    <tr>\n",
       "      <th>7</th>\n",
       "      <td>8</td>\n",
       "      <td>2.580205</td>\n",
       "    </tr>\n",
       "  </tbody>\n",
       "</table>\n",
       "</div>"
      ],
      "text/plain": [
       "   K clusters    Inertia\n",
       "0           1  66.000000\n",
       "1           2  47.268623\n",
       "2           3  33.829979\n",
       "3           4  20.885678\n",
       "4           5  11.130512\n",
       "5           6   6.677295\n",
       "6           7   4.487208\n",
       "7           8   2.580205"
      ]
     },
     "execution_count": 86,
     "metadata": {},
     "output_type": "execute_result"
    }
   ],
   "source": [
    "# produce a datafram of k and inertia for plotting\n",
    "df_inertia_t = pd.DataFrame({'K clusters':k_range, 'Inertia':inert_t})\n",
    "df_inertia_t"
   ]
  },
  {
   "cell_type": "code",
   "execution_count": 92,
   "metadata": {},
   "outputs": [
    {
     "data": {
      "image/png": "[encoded data removed]",
      "text/plain": [
       "<Figure size 432x288 with 1 Axes>"
      ]
     },
     "metadata": {},
     "output_type": "display_data"
    }
   ],
   "source": [
    "plot_inertia_k(df_inertia_t)"
   ]
  },
  {
   "cell_type": "markdown",
   "metadata": {},
   "source": [
    "Here, we set K=5 and get the label of each neighborhood:"
   ]
  },
  {
   "cell_type": "code",
   "execution_count": 98,
   "metadata": {},
   "outputs": [
    {
     "name": "stderr",
     "output_type": "stream",
     "text": [
      "/home/jupyterlab/conda/lib/python3.6/site-packages/sklearn/utils/validation.py:595: DataConversionWarning: Data with input dtype object was converted to float64 by StandardScaler.\n",
      "  warnings.warn(msg, DataConversionWarning)\n",
      "/home/jupyterlab/conda/lib/python3.6/site-packages/sklearn/utils/validation.py:595: DataConversionWarning: Data with input dtype object was converted to float64 by StandardScaler.\n",
      "  warnings.warn(msg, DataConversionWarning)\n"
     ]
    },
    {
     "data": {
      "text/html": [
       "<div>\n",
       "<style scoped>\n",
       "    .dataframe tbody tr th:only-of-type {\n",
       "        vertical-align: middle;\n",
       "    }\n",
       "\n",
       "    .dataframe tbody tr th {\n",
       "        vertical-align: top;\n",
       "    }\n",
       "\n",
       "    .dataframe thead th {\n",
       "        text-align: right;\n",
       "    }\n",
       "</style>\n",
       "<table border=\"1\" class=\"dataframe\">\n",
       "  <thead>\n",
       "    <tr style=\"text-align: right;\">\n",
       "      <th></th>\n",
       "      <th>Borough</th>\n",
       "      <th>Neighborhood</th>\n",
       "      <th>Latitude</th>\n",
       "      <th>Longitude</th>\n",
       "      <th>Gym</th>\n",
       "      <th>Vegan</th>\n",
       "      <th>Sport</th>\n",
       "      <th>Nightclub</th>\n",
       "      <th>Hookah</th>\n",
       "      <th>Distance</th>\n",
       "      <th>Kmeans_label</th>\n",
       "    </tr>\n",
       "  </thead>\n",
       "  <tbody>\n",
       "    <tr>\n",
       "      <th>0</th>\n",
       "      <td>Downtown Toronto</td>\n",
       "      <td>Harbourfront, Regent Park</td>\n",
       "      <td>43.654260</td>\n",
       "      <td>-79.360636</td>\n",
       "      <td>5.0</td>\n",
       "      <td>0.0</td>\n",
       "      <td>3.0</td>\n",
       "      <td>0.0</td>\n",
       "      <td>0.0</td>\n",
       "      <td>356.250000</td>\n",
       "      <td>2</td>\n",
       "    </tr>\n",
       "    <tr>\n",
       "      <th>1</th>\n",
       "      <td>Downtown Toronto</td>\n",
       "      <td>Ryerson, Garden District</td>\n",
       "      <td>43.657162</td>\n",
       "      <td>-79.378937</td>\n",
       "      <td>25.0</td>\n",
       "      <td>0.0</td>\n",
       "      <td>8.0</td>\n",
       "      <td>3.0</td>\n",
       "      <td>0.0</td>\n",
       "      <td>416.027778</td>\n",
       "      <td>0</td>\n",
       "    </tr>\n",
       "    <tr>\n",
       "      <th>2</th>\n",
       "      <td>Downtown Toronto</td>\n",
       "      <td>St. James Town</td>\n",
       "      <td>43.651494</td>\n",
       "      <td>-79.375418</td>\n",
       "      <td>14.0</td>\n",
       "      <td>0.0</td>\n",
       "      <td>6.0</td>\n",
       "      <td>0.0</td>\n",
       "      <td>0.0</td>\n",
       "      <td>348.950000</td>\n",
       "      <td>0</td>\n",
       "    </tr>\n",
       "    <tr>\n",
       "      <th>3</th>\n",
       "      <td>Downtown Toronto</td>\n",
       "      <td>Berczy Park</td>\n",
       "      <td>43.644771</td>\n",
       "      <td>-79.373306</td>\n",
       "      <td>6.0</td>\n",
       "      <td>0.0</td>\n",
       "      <td>6.0</td>\n",
       "      <td>0.0</td>\n",
       "      <td>0.0</td>\n",
       "      <td>487.166667</td>\n",
       "      <td>0</td>\n",
       "    </tr>\n",
       "    <tr>\n",
       "      <th>4</th>\n",
       "      <td>Downtown Toronto</td>\n",
       "      <td>Central Bay Street</td>\n",
       "      <td>43.657952</td>\n",
       "      <td>-79.387383</td>\n",
       "      <td>4.0</td>\n",
       "      <td>0.0</td>\n",
       "      <td>0.0</td>\n",
       "      <td>0.0</td>\n",
       "      <td>1.0</td>\n",
       "      <td>433.500000</td>\n",
       "      <td>3</td>\n",
       "    </tr>\n",
       "  </tbody>\n",
       "</table>\n",
       "</div>"
      ],
      "text/plain": [
       "            Borough               Neighborhood   Latitude  Longitude   Gym  \\\n",
       "0  Downtown Toronto  Harbourfront, Regent Park  43.654260 -79.360636   5.0   \n",
       "1  Downtown Toronto   Ryerson, Garden District  43.657162 -79.378937  25.0   \n",
       "2  Downtown Toronto             St. James Town  43.651494 -79.375418  14.0   \n",
       "3  Downtown Toronto                Berczy Park  43.644771 -79.373306   6.0   \n",
       "4  Downtown Toronto         Central Bay Street  43.657952 -79.387383   4.0   \n",
       "\n",
       "   Vegan  Sport  Nightclub  Hookah    Distance  Kmeans_label  \n",
       "0    0.0    3.0        0.0     0.0  356.250000             2  \n",
       "1    0.0    8.0        3.0     0.0  416.027778             0  \n",
       "2    0.0    6.0        0.0     0.0  348.950000             0  \n",
       "3    0.0    6.0        0.0     0.0  487.166667             0  \n",
       "4    0.0    0.0        0.0     1.0  433.500000             3  "
      ]
     },
     "execution_count": 98,
     "metadata": {},
     "output_type": "execute_result"
    }
   ],
   "source": [
    "K_num_t = 5\n",
    "labl, inert = kmeans_cluster(df_toronto_final_feat, 4, K_num_t, 12)\n",
    "df_toronto_kmeans = df_toronto_final_feat.copy()\n",
    "df_toronto_kmeans['Kmeans_label'] = labl\n",
    "df_toronto_kmeans.head()"
   ]
  },
  {
   "cell_type": "markdown",
   "metadata": {},
   "source": [
    "### 3. Examine each neighborhood cluster"
   ]
  },
  {
   "cell_type": "markdown",
   "metadata": {},
   "source": [
    "**First, let's define a function to display members and the averaged feature value in each cluster.**"
   ]
  },
  {
   "cell_type": "code",
   "execution_count": 87,
   "metadata": {},
   "outputs": [],
   "source": [
    "# Define a function to examine statistics of each cluster\n",
    "# parameters: kmeans dataframe: df; number of clusters: K_num\n",
    "def examine_cluster(df, K_num):\n",
    "    col_filter = ['Gym', 'Vegan', 'Sport', 'Nightclub', 'Hookah', 'Distance', 'Kmeans_label']\n",
    "    for labl in range(K_num):\n",
    "        nei_arry = df[df['Kmeans_label'] == labl]['Neighborhood'].values\n",
    "    \n",
    "        print('Cluster {}:'.format(labl))\n",
    "        for nei in nei_arry.tolist():\n",
    "            print('    ' + nei)\n",
    "    print('')\n",
    "    print('The averaged feature value of each cluster is:'.format(labl))\n",
    "    print(df[col_filter].groupby('Kmeans_label').mean())"
   ]
  },
  {
   "cell_type": "markdown",
   "metadata": {},
   "source": [
    "Now, we take a look at the clusters in Manhattan, NYC:"
   ]
  },
  {
   "cell_type": "code",
   "execution_count": 88,
   "metadata": {},
   "outputs": [
    {
     "name": "stdout",
     "output_type": "stream",
     "text": [
      "The clusters in Manhattan, NYC are:\n",
      "Cluster 0:\n",
      "    Marble Hill\n",
      "    Chinatown\n",
      "    Washington Heights\n",
      "    Inwood\n",
      "    Hamilton Heights\n",
      "    Manhattanville\n",
      "    Central Harlem\n",
      "    Roosevelt Island\n",
      "    Tribeca\n",
      "    Little Italy\n",
      "    Soho\n",
      "    West Village\n",
      "    Manhattan Valley\n",
      "    Morningside Heights\n",
      "    Turtle Bay\n",
      "    Tudor City\n",
      "    Hudson Yards\n",
      "Cluster 1:\n",
      "    Upper East Side\n",
      "    Yorkville\n",
      "    Lenox Hill\n",
      "    Upper West Side\n",
      "    Lincoln Square\n",
      "    Gramercy\n",
      "    Battery Park City\n",
      "    Financial District\n",
      "    Carnegie Hill\n",
      "    Civic Center\n",
      "    Sutton Place\n",
      "Cluster 2:\n",
      "    Murray Hill\n",
      "    Chelsea\n",
      "    Greenwich Village\n",
      "    Midtown South\n",
      "    Flatiron\n",
      "Cluster 3:\n",
      "    Midtown\n",
      "Cluster 4:\n",
      "    Clinton\n",
      "    East Village\n",
      "    Lower East Side\n",
      "    Noho\n",
      "Cluster 5:\n",
      "    East Harlem\n",
      "    Stuyvesant Town\n",
      "\n",
      "The averaged feature value of each cluster is:\n",
      "                    Gym     Vegan      Sport  Nightclub    Hookah    Distance\n",
      "Kmeans_label                                                                 \n",
      "0              7.352941  0.058824   2.470588   0.352941  0.235294  420.268524\n",
      "1             28.363636  0.181818   9.363636   0.000000  0.181818  369.532310\n",
      "2             32.400000  2.000000  21.600000   0.800000  0.600000  385.149097\n",
      "3             42.000000  0.000000  46.000000   3.000000  0.000000  402.978022\n",
      "4             22.750000  0.500000   6.000000   0.500000  4.250000  352.458399\n",
      "5              3.500000  0.000000   2.500000   0.000000  0.000000  135.318182\n"
     ]
    }
   ],
   "source": [
    "K_num = 6\n",
    "print('The clusters in Manhattan, NYC are:')\n",
    "examine_cluster(df_nyc_kmeans, K_num)"
   ]
  },
  {
   "cell_type": "markdown",
   "metadata": {},
   "source": [
    "From the cluster data, we can have a few insights:\n",
    "> Cluster 3 has the highest averaged numbers of gym, sports goods, and nightclubs. As a result, it represents prime locations for our new business.\n",
    "\n",
    "> Cluster 4 has the highest averaged number of hookah lounges, and relative high numbers of other feature venues. Thus, it could be a good location to attract young people who like cannabis based health products.\n",
    "\n",
    "> Cluster 5 (Greenwich Village) has 5 vegan restaurants that might bring customers to our business."
   ]
  },
  {
   "cell_type": "markdown",
   "metadata": {},
   "source": [
    "Also, we want to see the cluster data of Downtown Toronto:"
   ]
  },
  {
   "cell_type": "code",
   "execution_count": 99,
   "metadata": {},
   "outputs": [
    {
     "name": "stdout",
     "output_type": "stream",
     "text": [
      "The clusters in Downtown Toronto are:\n",
      "Cluster 0:\n",
      "    Ryerson, Garden District\n",
      "    St. James Town\n",
      "    Berczy Park\n",
      "    Church and Wellesley\n",
      "Cluster 1:\n",
      "    Chinatown, Grange Park, Kensington Market\n",
      "Cluster 2:\n",
      "    Harbourfront, Regent Park\n",
      "    Harbourfront East, Toronto Islands, Union Station\n",
      "    Harbord, University of Toronto\n",
      "    Cabbagetown, St. James Town\n",
      "Cluster 3:\n",
      "    Central Bay Street\n",
      "Cluster 4:\n",
      "    Adelaide, King, Richmond\n",
      "\n",
      "The averaged feature value of each cluster is:\n",
      "               Gym  Vegan  Sport  Nightclub  Hookah    Distance\n",
      "Kmeans_label                                                   \n",
      "0             17.0    0.0   6.50       1.25     0.0  403.399014\n",
      "1              0.0    2.0   1.00       2.00     0.0  442.000000\n",
      "2              5.5    0.0   1.75       0.00     0.0  285.823214\n",
      "3              4.0    0.0   0.00       0.00     1.0  433.500000\n",
      "4             10.0    0.0   3.00      11.00     0.0  375.833333\n"
     ]
    }
   ],
   "source": [
    "K_num_t = 5\n",
    "print('The clusters in Downtown Toronto are:')\n",
    "examine_cluster(df_toronto_kmeans, K_num_t)"
   ]
  },
  {
   "cell_type": "markdown",
   "metadata": {},
   "source": [
    "From the data above, we have the following findings:\n",
    "> Cluster 2 has the highest averaged numbers of gyms and sporting goods, which seems to be a prime location for our business during day time business hours.\n",
    "\n",
    ">  Cluster 4 (Adelaide/king/Richmond) has the highest number of nightclubs and much higher than that of the rest neighborhoods. This could mean a great opportunity for our business during night/late night time buisness hours."
   ]
  },
  {
   "cell_type": "markdown",
   "metadata": {},
   "source": [
    "**Lastly, we want to visualize cluster neighborhoods on the city map:**"
   ]
  },
  {
   "cell_type": "code",
   "execution_count": 26,
   "metadata": {},
   "outputs": [],
   "source": [
    "# import libraries\n",
    "import math "
   ]
  },
  {
   "cell_type": "markdown",
   "metadata": {},
   "source": [
    "First, we prepare the dataframe that includes all information for plotting."
   ]
  },
  {
   "cell_type": "code",
   "execution_count": 96,
   "metadata": {},
   "outputs": [
    {
     "data": {
      "text/html": [
       "<div>\n",
       "<style scoped>\n",
       "    .dataframe tbody tr th:only-of-type {\n",
       "        vertical-align: middle;\n",
       "    }\n",
       "\n",
       "    .dataframe tbody tr th {\n",
       "        vertical-align: top;\n",
       "    }\n",
       "\n",
       "    .dataframe thead th {\n",
       "        text-align: right;\n",
       "    }\n",
       "</style>\n",
       "<table border=\"1\" class=\"dataframe\">\n",
       "  <thead>\n",
       "    <tr style=\"text-align: right;\">\n",
       "      <th></th>\n",
       "      <th>Borough</th>\n",
       "      <th>Neighborhood</th>\n",
       "      <th>Latitude</th>\n",
       "      <th>Longitude</th>\n",
       "      <th>Gym</th>\n",
       "      <th>Vegan</th>\n",
       "      <th>Sport</th>\n",
       "      <th>Nightclub</th>\n",
       "      <th>Hookah</th>\n",
       "      <th>Distance</th>\n",
       "      <th>Kmeans_label</th>\n",
       "      <th>Total</th>\n",
       "    </tr>\n",
       "  </thead>\n",
       "  <tbody>\n",
       "    <tr>\n",
       "      <th>0</th>\n",
       "      <td>Manhattan</td>\n",
       "      <td>Marble Hill</td>\n",
       "      <td>40.876551</td>\n",
       "      <td>-73.910660</td>\n",
       "      <td>2.0</td>\n",
       "      <td>0.0</td>\n",
       "      <td>1.0</td>\n",
       "      <td>0.0</td>\n",
       "      <td>0.0</td>\n",
       "      <td>426.666667</td>\n",
       "      <td>0</td>\n",
       "      <td>3.0</td>\n",
       "    </tr>\n",
       "    <tr>\n",
       "      <th>1</th>\n",
       "      <td>Manhattan</td>\n",
       "      <td>Chinatown</td>\n",
       "      <td>40.715618</td>\n",
       "      <td>-73.994279</td>\n",
       "      <td>10.0</td>\n",
       "      <td>1.0</td>\n",
       "      <td>5.0</td>\n",
       "      <td>0.0</td>\n",
       "      <td>0.0</td>\n",
       "      <td>437.687500</td>\n",
       "      <td>0</td>\n",
       "      <td>16.0</td>\n",
       "    </tr>\n",
       "    <tr>\n",
       "      <th>2</th>\n",
       "      <td>Manhattan</td>\n",
       "      <td>Washington Heights</td>\n",
       "      <td>40.851903</td>\n",
       "      <td>-73.936900</td>\n",
       "      <td>3.0</td>\n",
       "      <td>0.0</td>\n",
       "      <td>0.0</td>\n",
       "      <td>0.0</td>\n",
       "      <td>1.0</td>\n",
       "      <td>427.333333</td>\n",
       "      <td>0</td>\n",
       "      <td>4.0</td>\n",
       "    </tr>\n",
       "    <tr>\n",
       "      <th>3</th>\n",
       "      <td>Manhattan</td>\n",
       "      <td>Inwood</td>\n",
       "      <td>40.867684</td>\n",
       "      <td>-73.921210</td>\n",
       "      <td>0.0</td>\n",
       "      <td>0.0</td>\n",
       "      <td>2.0</td>\n",
       "      <td>1.0</td>\n",
       "      <td>0.0</td>\n",
       "      <td>351.666667</td>\n",
       "      <td>0</td>\n",
       "      <td>3.0</td>\n",
       "    </tr>\n",
       "    <tr>\n",
       "      <th>4</th>\n",
       "      <td>Manhattan</td>\n",
       "      <td>Hamilton Heights</td>\n",
       "      <td>40.823604</td>\n",
       "      <td>-73.949688</td>\n",
       "      <td>6.0</td>\n",
       "      <td>0.0</td>\n",
       "      <td>5.0</td>\n",
       "      <td>1.0</td>\n",
       "      <td>1.0</td>\n",
       "      <td>417.000000</td>\n",
       "      <td>0</td>\n",
       "      <td>13.0</td>\n",
       "    </tr>\n",
       "  </tbody>\n",
       "</table>\n",
       "</div>"
      ],
      "text/plain": [
       "     Borough        Neighborhood   Latitude  Longitude   Gym  Vegan  Sport  \\\n",
       "0  Manhattan         Marble Hill  40.876551 -73.910660   2.0    0.0    1.0   \n",
       "1  Manhattan           Chinatown  40.715618 -73.994279  10.0    1.0    5.0   \n",
       "2  Manhattan  Washington Heights  40.851903 -73.936900   3.0    0.0    0.0   \n",
       "3  Manhattan              Inwood  40.867684 -73.921210   0.0    0.0    2.0   \n",
       "4  Manhattan    Hamilton Heights  40.823604 -73.949688   6.0    0.0    5.0   \n",
       "\n",
       "   Nightclub  Hookah    Distance  Kmeans_label  Total  \n",
       "0        0.0     0.0  426.666667             0    3.0  \n",
       "1        0.0     0.0  437.687500             0   16.0  \n",
       "2        0.0     1.0  427.333333             0    4.0  \n",
       "3        1.0     0.0  351.666667             0    3.0  \n",
       "4        1.0     1.0  417.000000             0   13.0  "
      ]
     },
     "execution_count": 96,
     "metadata": {},
     "output_type": "execute_result"
    }
   ],
   "source": [
    "df_nyc_clus_map = df_nyc_kmeans.copy()\n",
    "df_nyc_clus_map['Total'] = df_nyc_clus_map[['Gym', 'Vegan', 'Sport', 'Nightclub', 'Hookah']].sum(axis = 1)\n",
    "df_nyc_clus_map.head()"
   ]
  },
  {
   "cell_type": "markdown",
   "metadata": {},
   "source": [
    "Then, we generate the map of Manhattan, NY. Each neighborhood is circle marked. The color of the marker indicates its cluster label, and the size of the circle indicates the averaged number of feature venues. \n",
    "\n",
    "> To generate a series of colors, we use colormaps provided by 'pyplot.cm'. For details: https://matplotlib.org/examples/color/colormaps_reference.html. \n",
    "\n",
    "> To convert color format from RGBA to Hex, we use: mpl.colors.to_hex()"
   ]
  },
  {
   "cell_type": "code",
   "execution_count": 100,
   "metadata": {},
   "outputs": [
    {
     "data": {
      "text/html": [
       "<div style=\"width:100%;\"><div style=\"position:relative;width:100%;height:0;padding-bottom:60%;\"><iframe src=\"data:text/html;charset=utf-8;base64,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\" style=\"position:absolute;width:100%;height:100%;left:0;top:0;border:none !important;\" allowfullscreen webkitallowfullscreen mozallowfullscreen></iframe></div></div>"
      ],
      "text/plain": [
       "<folium.folium.Map at 0x7f3b7e52b0f0>"
      ]
     },
     "execution_count": 100,
     "metadata": {},
     "output_type": "execute_result"
    }
   ],
   "source": [
    "# plot bubble map using folium\n",
    "address = 'Manhattan, NY'\n",
    "df = df_nyc_clus_map.copy()\n",
    "    \n",
    "# get geographical coordinates of the address\n",
    "geolocator = Nominatim(user_agent=\"address_explorer\")\n",
    "location = geolocator.geocode(address)\n",
    "latitude = location.latitude\n",
    "longitude = location.longitude  \n",
    "\n",
    "add_map = folium.Map(location = [latitude, longitude], tiles='cartodbpositron', zoom_start= 11)\n",
    "\n",
    "# create a color list from colormap\n",
    "color_list = plt.cm.Set2(np.linspace(0,1,K_num))       \n",
    "\n",
    "for lat, lng, nei, klabel, total in zip(df['Latitude'], \n",
    "                                              df['Longitude'], \n",
    "                                              df['Neighborhood'],\n",
    "                                              df['Kmeans_label'],\n",
    "                                              df['Total']\n",
    "                                             ):\n",
    "        \n",
    "    color = mpl.colors.to_hex(color_list[klabel])  \n",
    "    label = 'Cluster {}: '.format(klabel) + nei\n",
    "    folium.features.CircleMarker(\n",
    "        location = [lat, lng],\n",
    "        radius = math.sqrt(total), # define how big you want the circle markers to be\n",
    "        color = color,\n",
    "        fill = True,\n",
    "        popup = label,\n",
    "        fill_color = color,\n",
    "        fill_opacity = 0.7\n",
    "    ).add_to(add_map)\n",
    "    \n",
    "add_map"
   ]
  },
  {
   "cell_type": "markdown",
   "metadata": {},
   "source": [
    "Now let's do the same for Downtown, Toronto:"
   ]
  },
  {
   "cell_type": "code",
   "execution_count": 101,
   "metadata": {},
   "outputs": [
    {
     "data": {
      "text/html": [
       "<div>\n",
       "<style scoped>\n",
       "    .dataframe tbody tr th:only-of-type {\n",
       "        vertical-align: middle;\n",
       "    }\n",
       "\n",
       "    .dataframe tbody tr th {\n",
       "        vertical-align: top;\n",
       "    }\n",
       "\n",
       "    .dataframe thead th {\n",
       "        text-align: right;\n",
       "    }\n",
       "</style>\n",
       "<table border=\"1\" class=\"dataframe\">\n",
       "  <thead>\n",
       "    <tr style=\"text-align: right;\">\n",
       "      <th></th>\n",
       "      <th>Borough</th>\n",
       "      <th>Neighborhood</th>\n",
       "      <th>Latitude</th>\n",
       "      <th>Longitude</th>\n",
       "      <th>Gym</th>\n",
       "      <th>Vegan</th>\n",
       "      <th>Sport</th>\n",
       "      <th>Nightclub</th>\n",
       "      <th>Hookah</th>\n",
       "      <th>Distance</th>\n",
       "      <th>Kmeans_label</th>\n",
       "      <th>Total</th>\n",
       "    </tr>\n",
       "  </thead>\n",
       "  <tbody>\n",
       "    <tr>\n",
       "      <th>0</th>\n",
       "      <td>Downtown Toronto</td>\n",
       "      <td>Harbourfront, Regent Park</td>\n",
       "      <td>43.654260</td>\n",
       "      <td>-79.360636</td>\n",
       "      <td>5.0</td>\n",
       "      <td>0.0</td>\n",
       "      <td>3.0</td>\n",
       "      <td>0.0</td>\n",
       "      <td>0.0</td>\n",
       "      <td>356.250000</td>\n",
       "      <td>2</td>\n",
       "      <td>8.0</td>\n",
       "    </tr>\n",
       "    <tr>\n",
       "      <th>1</th>\n",
       "      <td>Downtown Toronto</td>\n",
       "      <td>Ryerson, Garden District</td>\n",
       "      <td>43.657162</td>\n",
       "      <td>-79.378937</td>\n",
       "      <td>25.0</td>\n",
       "      <td>0.0</td>\n",
       "      <td>8.0</td>\n",
       "      <td>3.0</td>\n",
       "      <td>0.0</td>\n",
       "      <td>416.027778</td>\n",
       "      <td>0</td>\n",
       "      <td>36.0</td>\n",
       "    </tr>\n",
       "    <tr>\n",
       "      <th>2</th>\n",
       "      <td>Downtown Toronto</td>\n",
       "      <td>St. James Town</td>\n",
       "      <td>43.651494</td>\n",
       "      <td>-79.375418</td>\n",
       "      <td>14.0</td>\n",
       "      <td>0.0</td>\n",
       "      <td>6.0</td>\n",
       "      <td>0.0</td>\n",
       "      <td>0.0</td>\n",
       "      <td>348.950000</td>\n",
       "      <td>0</td>\n",
       "      <td>20.0</td>\n",
       "    </tr>\n",
       "    <tr>\n",
       "      <th>3</th>\n",
       "      <td>Downtown Toronto</td>\n",
       "      <td>Berczy Park</td>\n",
       "      <td>43.644771</td>\n",
       "      <td>-79.373306</td>\n",
       "      <td>6.0</td>\n",
       "      <td>0.0</td>\n",
       "      <td>6.0</td>\n",
       "      <td>0.0</td>\n",
       "      <td>0.0</td>\n",
       "      <td>487.166667</td>\n",
       "      <td>0</td>\n",
       "      <td>12.0</td>\n",
       "    </tr>\n",
       "    <tr>\n",
       "      <th>4</th>\n",
       "      <td>Downtown Toronto</td>\n",
       "      <td>Central Bay Street</td>\n",
       "      <td>43.657952</td>\n",
       "      <td>-79.387383</td>\n",
       "      <td>4.0</td>\n",
       "      <td>0.0</td>\n",
       "      <td>0.0</td>\n",
       "      <td>0.0</td>\n",
       "      <td>1.0</td>\n",
       "      <td>433.500000</td>\n",
       "      <td>3</td>\n",
       "      <td>5.0</td>\n",
       "    </tr>\n",
       "  </tbody>\n",
       "</table>\n",
       "</div>"
      ],
      "text/plain": [
       "            Borough               Neighborhood   Latitude  Longitude   Gym  \\\n",
       "0  Downtown Toronto  Harbourfront, Regent Park  43.654260 -79.360636   5.0   \n",
       "1  Downtown Toronto   Ryerson, Garden District  43.657162 -79.378937  25.0   \n",
       "2  Downtown Toronto             St. James Town  43.651494 -79.375418  14.0   \n",
       "3  Downtown Toronto                Berczy Park  43.644771 -79.373306   6.0   \n",
       "4  Downtown Toronto         Central Bay Street  43.657952 -79.387383   4.0   \n",
       "\n",
       "   Vegan  Sport  Nightclub  Hookah    Distance  Kmeans_label  Total  \n",
       "0    0.0    3.0        0.0     0.0  356.250000             2    8.0  \n",
       "1    0.0    8.0        3.0     0.0  416.027778             0   36.0  \n",
       "2    0.0    6.0        0.0     0.0  348.950000             0   20.0  \n",
       "3    0.0    6.0        0.0     0.0  487.166667             0   12.0  \n",
       "4    0.0    0.0        0.0     1.0  433.500000             3    5.0  "
      ]
     },
     "execution_count": 101,
     "metadata": {},
     "output_type": "execute_result"
    }
   ],
   "source": [
    "# prepare the final dataframe\n",
    "df_toronto_clus_map = df_toronto_kmeans.copy()\n",
    "df_toronto_clus_map['Total'] = df_toronto_clus_map[['Gym', 'Vegan', 'Sport', 'Nightclub', 'Hookah']].sum(axis = 1)\n",
    "df_toronto_clus_map.head()"
   ]
  },
  {
   "cell_type": "code",
   "execution_count": 106,
   "metadata": {},
   "outputs": [
    {
     "data": {
      "text/html": [
       "<div style=\"width:100%;\"><div style=\"position:relative;width:100%;height:0;padding-bottom:60%;\"><iframe src=\"data:text/html;charset=utf-8;base64,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\" style=\"position:absolute;width:100%;height:100%;left:0;top:0;border:none !important;\" allowfullscreen webkitallowfullscreen mozallowfullscreen></iframe></div></div>"
      ],
      "text/plain": [
       "<folium.folium.Map at 0x7f3b7e50beb8>"
      ]
     },
     "execution_count": 106,
     "metadata": {},
     "output_type": "execute_result"
    }
   ],
   "source": [
    "# plot bubble map using folium\n",
    "address = address = 'Toronto, ON'\n",
    "df = df_toronto_clus_map.copy()\n",
    "K_num_t = 5\n",
    "\n",
    "# get geographical coordinates of the address\n",
    "geolocator = Nominatim(user_agent=\"address_explorer\")\n",
    "location = geolocator.geocode(address)\n",
    "latitude = location.latitude\n",
    "longitude = location.longitude  \n",
    "\n",
    "add_map = folium.Map(location = [latitude, longitude], tiles='cartodbpositron', zoom_start= 13)\n",
    "\n",
    "# create a color list from colormap\n",
    "color_list = plt.cm.Set2(np.linspace(0,1,K_num_t))       \n",
    "\n",
    "for lat, lng, nei, klabel, total in zip(df['Latitude'], \n",
    "                                              df['Longitude'], \n",
    "                                              df['Neighborhood'],\n",
    "                                              df['Kmeans_label'],\n",
    "                                              df['Total']\n",
    "                                             ):\n",
    "        \n",
    "    color = mpl.colors.to_hex(color_list[klabel])  \n",
    "    label = 'Cluster {}: '.format(klabel) + nei\n",
    "    folium.features.CircleMarker(\n",
    "        location = [lat, lng],\n",
    "        radius = 1.5*math.sqrt(total), # define how big you want the circle markers to be\n",
    "        color = color,\n",
    "        fill = True,\n",
    "        popup = label,\n",
    "        fill_color = color,\n",
    "        fill_opacity = 0.7\n",
    "    ).add_to(add_map)\n",
    "    \n",
    "add_map"
   ]
  },
  {
   "cell_type": "code",
   "execution_count": null,
   "metadata": {},
   "outputs": [],
   "source": []
  }
 ],
 "metadata": {
  "kernelspec": {
   "display_name": "Python 3",
   "language": "python",
   "name": "python3"
  },
  "language_info": {
   "codemirror_mode": {
    "name": "ipython",
    "version": 3
   },
   "file_extension": ".py",
   "mimetype": "text/x-python",
   "name": "python",
   "nbconvert_exporter": "python",
   "pygments_lexer": "ipython3",
   "version": "3.6.8"
  }
 },
 "nbformat": 4,
 "nbformat_minor": 2
}
